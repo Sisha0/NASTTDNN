{
 "cells": [
  {
   "cell_type": "code",
   "execution_count": 1,
   "metadata": {},
   "outputs": [],
   "source": [
    "import torch\n",
    "import torch.optim\n",
    "import numpy as np\n",
    "\n",
    "from nni.nas.space import model_context\n",
    "from nni.nas.strategy import DARTS as DartsStrategy\n",
    "from nni.nas.experiment import NasExperiment\n",
    "from dataset.regression import fetch_data\n",
    "from evaluators.regression import RegressionEvaluator\n",
    "from models.mlp import MLP"
   ]
  },
  {
   "cell_type": "code",
   "execution_count": 2,
   "metadata": {},
   "outputs": [
    {
     "data": {
      "text/plain": [
       "<torch._C.Generator at 0x7ddcd81531d0>"
      ]
     },
     "execution_count": 2,
     "metadata": {},
     "output_type": "execute_result"
    }
   ],
   "source": [
    "np.random.seed(0)\n",
    "torch.random.manual_seed(0)"
   ]
  },
  {
   "cell_type": "markdown",
   "metadata": {},
   "source": [
    "# Fetch dataset loaders"
   ]
  },
  {
   "cell_type": "code",
   "execution_count": 3,
   "metadata": {},
   "outputs": [],
   "source": [
    "task_config, loaders = fetch_data(batch_size=256, num_workers=4)"
   ]
  },
  {
   "cell_type": "code",
   "execution_count": 4,
   "metadata": {},
   "outputs": [
    {
     "name": "stdout",
     "output_type": "stream",
     "text": [
      "train dataset size: 13209\n",
      "val dataset size: 3303\n",
      "test dataset size: 4128\n"
     ]
    }
   ],
   "source": [
    "for split_name, loader in loaders.items():\n",
    "    print(split_name, 'dataset size:', len(loader.dataset))"
   ]
  },
  {
   "cell_type": "markdown",
   "metadata": {},
   "source": [
    "# Training"
   ]
  },
  {
   "cell_type": "code",
   "execution_count": 5,
   "metadata": {},
   "outputs": [
    {
     "name": "stderr",
     "output_type": "stream",
     "text": [
      "GPU available: True (cuda), used: True\n",
      "TPU available: False, using: 0 TPU cores\n",
      "IPU available: False, using: 0 IPUs\n",
      "HPU available: False, using: 0 HPUs\n"
     ]
    }
   ],
   "source": [
    "evaluator = RegressionEvaluator(\n",
    "    learning_rate=3e-4,\n",
    "    weight_decay=1e-5,\n",
    "    optimizer=torch.optim.AdamW,\n",
    "    train_dataloaders=loaders['train'],\n",
    "    val_dataloaders=loaders['val'],\n",
    "    max_epochs=100,\n",
    ")"
   ]
  },
  {
   "cell_type": "code",
   "execution_count": 6,
   "metadata": {},
   "outputs": [
    {
     "name": "stdout",
     "output_type": "stream",
     "text": [
      "[2024-05-14 01:46:00] \u001b[32mConfig is not provided. Will try to infer.\u001b[0m\n",
      "[2024-05-14 01:46:00] \u001b[32mStrategy is found to be a one-shot strategy. Setting execution engine to \"sequential\" and format to \"raw\".\u001b[0m\n",
      "[2024-05-14 01:46:00] \u001b[33mWARNING: `training_service` will be ignored for sequential execution engine.\u001b[0m\n",
      "[2024-05-14 01:46:00] \u001b[33mWARNING: `training_service` will be ignored for sequential execution engine.\u001b[0m\n",
      "[2024-05-14 01:46:00] \u001b[33mWARNING: `training_service` will be ignored for sequential execution engine.\u001b[0m\n",
      "[2024-05-14 01:46:00] \u001b[33mWARNING: `training_service` will be ignored for sequential execution engine.\u001b[0m\n",
      "[2024-05-14 01:46:00] \u001b[33mWARNING: `training_service` will be ignored for sequential execution engine.\u001b[0m\n",
      "[2024-05-14 01:46:00] \u001b[33mWARNING: `training_service` will be ignored for sequential execution engine.\u001b[0m\n",
      "[2024-05-14 01:46:00] \u001b[33mWARNING: `training_service` will be ignored for sequential execution engine.\u001b[0m\n",
      "[2024-05-14 01:46:01] \u001b[33mWARNING: `training_service` will be ignored for sequential execution engine.\u001b[0m\n",
      "[2024-05-14 01:46:01] \u001b[33mWARNING: Checkpoint callback does not have last_model_path or best_model_path attribute. Either the strategy has not started, or it did not save any checkpoint: <pytorch_lightning.callbacks.model_checkpoint.ModelCheckpoint object at 0x7ddbd750d910>\u001b[0m\n",
      "[2024-05-14 01:46:01] \u001b[33mWARNING: `training_service` will be ignored for sequential execution engine.\u001b[0m\n",
      "[2024-05-14 01:46:01] \u001b[33mWARNING: `training_service` will be ignored for sequential execution engine.\u001b[0m\n",
      "[2024-05-14 01:46:01] \u001b[32mCheckpoint saved to /home/sisha/nni-experiments/9mf8us0g/checkpoint.\u001b[0m\n",
      "[2024-05-14 01:46:01] \u001b[32mExperiment initialized successfully. Starting exploration strategy...\u001b[0m\n",
      "[2024-05-14 01:46:01] \u001b[33mWARNING: Validation dataloaders are missing. Safe to ignore this warning when using one-shot strategy.\u001b[0m\n"
     ]
    },
    {
     "name": "stderr",
     "output_type": "stream",
     "text": [
      "You are using a CUDA device ('NVIDIA GeForce RTX 4060 Ti') that has Tensor Cores. To properly utilize them, you should set `torch.set_float32_matmul_precision('medium' | 'high')` which will trade-off precision for performance. For more details, read https://pytorch.org/docs/stable/generated/torch.set_float32_matmul_precision.html#torch.set_float32_matmul_precision\n",
      "LOCAL_RANK: 0 - CUDA_VISIBLE_DEVICES: [0]\n",
      "\n",
      "  | Name            | Type             | Params\n",
      "-----------------------------------------------------\n",
      "0 | training_module | RegressionModule | 2.6 M \n",
      "-----------------------------------------------------\n",
      "2.6 M     Trainable params\n",
      "0         Non-trainable params\n",
      "2.6 M     Total params\n",
      "10.527    Total estimated model params size (MB)\n"
     ]
    },
    {
     "data": {
      "application/vnd.jupyter.widget-view+json": {
       "model_id": "a7f0f74fd8f247f6a384a8a1a2d71a39",
       "version_major": 2,
       "version_minor": 0
      },
      "text/plain": [
       "Training: |          | 0/? [00:00<?, ?it/s]"
      ]
     },
     "metadata": {},
     "output_type": "display_data"
    },
    {
     "name": "stderr",
     "output_type": "stream",
     "text": [
      "`Trainer.fit` stopped: `max_epochs=100` reached.\n"
     ]
    },
    {
     "name": "stdout",
     "output_type": "stream",
     "text": [
      "[2024-05-14 01:50:10] \u001b[32mWaiting for models submitted to engine to finish...\u001b[0m\n",
      "[2024-05-14 01:50:10] \u001b[32mExperiment is completed.\u001b[0m\n",
      "[2024-05-14 01:50:10] \u001b[33mWARNING: `training_service` will be ignored for sequential execution engine.\u001b[0m\n"
     ]
    },
    {
     "name": "stderr",
     "output_type": "stream",
     "text": [
      "/home/sisha/miniconda3/envs/test_env/lib/python3.12/site-packages/nni/nas/evaluator/pytorch/lightning.py:311: Multiple metrics without \"default\" is not supported by current framework.\n"
     ]
    },
    {
     "data": {
      "text/plain": [
       "True"
      ]
     },
     "execution_count": 6,
     "metadata": {},
     "output_type": "execute_result"
    }
   ],
   "source": [
    "strategy = DartsStrategy()\n",
    "model_space = MLP(d_in=task_config.in_features, d_out=task_config.out_features, dropout=0.1)\n",
    "experiment = NasExperiment(model_space, evaluator, strategy)\n",
    "experiment.run()"
   ]
  },
  {
   "cell_type": "markdown",
   "metadata": {},
   "source": [
    "# Train final model"
   ]
  },
  {
   "cell_type": "code",
   "execution_count": 7,
   "metadata": {},
   "outputs": [
    {
     "name": "stdout",
     "output_type": "stream",
     "text": [
      "{'MLP/d_block': 32, 'MLP/in_act': 1, 'MLP/n_blocks': 2, 'MLP/blocks_act': 0}\n"
     ]
    }
   ],
   "source": [
    "exported_arch = experiment.export_top_models(formatter='dict')[0]\n",
    "print(exported_arch)"
   ]
  },
  {
   "cell_type": "code",
   "execution_count": 8,
   "metadata": {},
   "outputs": [],
   "source": [
    "with model_context(exported_arch):\n",
    "    final_model = MLP(d_in=task_config.in_features, d_out=task_config.out_features, dropout=0.1)"
   ]
  },
  {
   "cell_type": "code",
   "execution_count": 9,
   "metadata": {},
   "outputs": [
    {
     "name": "stderr",
     "output_type": "stream",
     "text": [
      "GPU available: True (cuda), used: True\n",
      "TPU available: False, using: 0 TPU cores\n",
      "IPU available: False, using: 0 IPUs\n",
      "HPU available: False, using: 0 HPUs\n"
     ]
    }
   ],
   "source": [
    "evaluator = RegressionEvaluator(\n",
    "    learning_rate=3e-4,\n",
    "    weight_decay=1e-5,\n",
    "    optimizer=torch.optim.AdamW,\n",
    "    train_dataloaders=loaders['train'],\n",
    "    val_dataloaders=loaders['val'],\n",
    "    max_epochs=150,\n",
    ")"
   ]
  },
  {
   "cell_type": "code",
   "execution_count": 10,
   "metadata": {},
   "outputs": [
    {
     "name": "stderr",
     "output_type": "stream",
     "text": [
      "LOCAL_RANK: 0 - CUDA_VISIBLE_DEVICES: [0]\n",
      "\n",
      "  | Name      | Type       | Params\n",
      "-----------------------------------------\n",
      "0 | criterion | MSELoss    | 0     \n",
      "1 | metrics   | ModuleDict | 0     \n",
      "2 | _model    | MLP        | 2.4 K \n",
      "-----------------------------------------\n",
      "2.4 K     Trainable params\n",
      "0         Non-trainable params\n",
      "2.4 K     Total params\n",
      "0.010     Total estimated model params size (MB)\n"
     ]
    },
    {
     "data": {
      "application/vnd.jupyter.widget-view+json": {
       "model_id": "82a5e99b0202430995637b4e3e4c3fc9",
       "version_major": 2,
       "version_minor": 0
      },
      "text/plain": [
       "Sanity Checking: |          | 0/? [00:00<?, ?it/s]"
      ]
     },
     "metadata": {},
     "output_type": "display_data"
    },
    {
     "data": {
      "application/vnd.jupyter.widget-view+json": {
       "model_id": "1ed9b5b0e39f4bedbce39ac115fb6964",
       "version_major": 2,
       "version_minor": 0
      },
      "text/plain": [
       "Training: |          | 0/? [00:00<?, ?it/s]"
      ]
     },
     "metadata": {},
     "output_type": "display_data"
    },
    {
     "data": {
      "application/vnd.jupyter.widget-view+json": {
       "model_id": "d18c5c7dbd00474aa516377a4f9039c5",
       "version_major": 2,
       "version_minor": 0
      },
      "text/plain": [
       "Validation: |          | 0/? [00:00<?, ?it/s]"
      ]
     },
     "metadata": {},
     "output_type": "display_data"
    },
    {
     "name": "stdout",
     "output_type": "stream",
     "text": [
      "[2024-05-14 01:51:04] \u001b[32mIntermediate result: {'mse': 0.9081547856330872, 'rmse': 0.951565682888031, 'default': 0.9081547856330872}  (Index 0)\u001b[0m\n"
     ]
    },
    {
     "name": "stderr",
     "output_type": "stream",
     "text": [
      "/home/sisha/miniconda3/envs/test_env/lib/python3.12/site-packages/nni/nas/evaluator/pytorch/lightning.py:311: Multiple metrics without \"default\" is not supported by current framework.\n"
     ]
    },
    {
     "data": {
      "application/vnd.jupyter.widget-view+json": {
       "model_id": "32def61ec9854147b669b317a24ba707",
       "version_major": 2,
       "version_minor": 0
      },
      "text/plain": [
       "Validation: |          | 0/? [00:00<?, ?it/s]"
      ]
     },
     "metadata": {},
     "output_type": "display_data"
    },
    {
     "name": "stdout",
     "output_type": "stream",
     "text": [
      "[2024-05-14 01:51:05] \u001b[32mIntermediate result: {'mse': 0.6922996044158936, 'rmse': 0.8305162191390991, 'default': 0.6922996044158936}  (Index 1)\u001b[0m\n"
     ]
    },
    {
     "data": {
      "application/vnd.jupyter.widget-view+json": {
       "model_id": "39e4e7a1520a41e1b036e7bb35ad1f54",
       "version_major": 2,
       "version_minor": 0
      },
      "text/plain": [
       "Validation: |          | 0/? [00:00<?, ?it/s]"
      ]
     },
     "metadata": {},
     "output_type": "display_data"
    },
    {
     "name": "stdout",
     "output_type": "stream",
     "text": [
      "[2024-05-14 01:51:05] \u001b[32mIntermediate result: {'mse': 0.41494056582450867, 'rmse': 0.6422576308250427, 'default': 0.41494056582450867}  (Index 2)\u001b[0m\n"
     ]
    },
    {
     "data": {
      "application/vnd.jupyter.widget-view+json": {
       "model_id": "d4df894929f640a58bdb47a93df2fd21",
       "version_major": 2,
       "version_minor": 0
      },
      "text/plain": [
       "Validation: |          | 0/? [00:00<?, ?it/s]"
      ]
     },
     "metadata": {},
     "output_type": "display_data"
    },
    {
     "name": "stdout",
     "output_type": "stream",
     "text": [
      "[2024-05-14 01:51:05] \u001b[32mIntermediate result: {'mse': 0.3316473960876465, 'rmse': 0.5735471844673157, 'default': 0.3316473960876465}  (Index 3)\u001b[0m\n"
     ]
    },
    {
     "data": {
      "application/vnd.jupyter.widget-view+json": {
       "model_id": "5799ad05bc5744a080106ef6bd812dcf",
       "version_major": 2,
       "version_minor": 0
      },
      "text/plain": [
       "Validation: |          | 0/? [00:00<?, ?it/s]"
      ]
     },
     "metadata": {},
     "output_type": "display_data"
    },
    {
     "name": "stdout",
     "output_type": "stream",
     "text": [
      "[2024-05-14 01:51:06] \u001b[32mIntermediate result: {'mse': 0.3063434064388275, 'rmse': 0.5510765910148621, 'default': 0.3063434064388275}  (Index 4)\u001b[0m\n"
     ]
    },
    {
     "data": {
      "application/vnd.jupyter.widget-view+json": {
       "model_id": "b2769311474845e28a92fe7b450b2c9a",
       "version_major": 2,
       "version_minor": 0
      },
      "text/plain": [
       "Validation: |          | 0/? [00:00<?, ?it/s]"
      ]
     },
     "metadata": {},
     "output_type": "display_data"
    },
    {
     "name": "stdout",
     "output_type": "stream",
     "text": [
      "[2024-05-14 01:51:06] \u001b[32mIntermediate result: {'mse': 0.2948641777038574, 'rmse': 0.5404336452484131, 'default': 0.2948641777038574}  (Index 5)\u001b[0m\n"
     ]
    },
    {
     "data": {
      "application/vnd.jupyter.widget-view+json": {
       "model_id": "1dddfa35b25b4a4fb6dcaaed09a65b48",
       "version_major": 2,
       "version_minor": 0
      },
      "text/plain": [
       "Validation: |          | 0/? [00:00<?, ?it/s]"
      ]
     },
     "metadata": {},
     "output_type": "display_data"
    },
    {
     "name": "stdout",
     "output_type": "stream",
     "text": [
      "[2024-05-14 01:51:07] \u001b[32mIntermediate result: {'mse': 0.28902557492256165, 'rmse': 0.5348267555236816, 'default': 0.28902557492256165}  (Index 6)\u001b[0m\n"
     ]
    },
    {
     "data": {
      "application/vnd.jupyter.widget-view+json": {
       "model_id": "9fdd6fe31df04544820a7472b6ba3f3e",
       "version_major": 2,
       "version_minor": 0
      },
      "text/plain": [
       "Validation: |          | 0/? [00:00<?, ?it/s]"
      ]
     },
     "metadata": {},
     "output_type": "display_data"
    },
    {
     "name": "stdout",
     "output_type": "stream",
     "text": [
      "[2024-05-14 01:51:07] \u001b[32mIntermediate result: {'mse': 0.2846122980117798, 'rmse': 0.5306180715560913, 'default': 0.2846122980117798}  (Index 7)\u001b[0m\n"
     ]
    },
    {
     "data": {
      "application/vnd.jupyter.widget-view+json": {
       "model_id": "eb31964f6b00484e80759b9c9abf24e1",
       "version_major": 2,
       "version_minor": 0
      },
      "text/plain": [
       "Validation: |          | 0/? [00:00<?, ?it/s]"
      ]
     },
     "metadata": {},
     "output_type": "display_data"
    },
    {
     "name": "stdout",
     "output_type": "stream",
     "text": [
      "[2024-05-14 01:51:08] \u001b[32mIntermediate result: {'mse': 0.28214046359062195, 'rmse': 0.5283733606338501, 'default': 0.28214046359062195}  (Index 8)\u001b[0m\n"
     ]
    },
    {
     "data": {
      "application/vnd.jupyter.widget-view+json": {
       "model_id": "f3c0ed784bd447c79ff0db4e6c08291d",
       "version_major": 2,
       "version_minor": 0
      },
      "text/plain": [
       "Validation: |          | 0/? [00:00<?, ?it/s]"
      ]
     },
     "metadata": {},
     "output_type": "display_data"
    },
    {
     "name": "stdout",
     "output_type": "stream",
     "text": [
      "[2024-05-14 01:51:08] \u001b[32mIntermediate result: {'mse': 0.27961304783821106, 'rmse': 0.5259442925453186, 'default': 0.27961304783821106}  (Index 9)\u001b[0m\n"
     ]
    },
    {
     "data": {
      "application/vnd.jupyter.widget-view+json": {
       "model_id": "bea320278f6a48d3aa7b3fc192fd9093",
       "version_major": 2,
       "version_minor": 0
      },
      "text/plain": [
       "Validation: |          | 0/? [00:00<?, ?it/s]"
      ]
     },
     "metadata": {},
     "output_type": "display_data"
    },
    {
     "name": "stdout",
     "output_type": "stream",
     "text": [
      "[2024-05-14 01:51:09] \u001b[32mIntermediate result: {'mse': 0.27673083543777466, 'rmse': 0.5230873227119446, 'default': 0.27673083543777466}  (Index 10)\u001b[0m\n"
     ]
    },
    {
     "data": {
      "application/vnd.jupyter.widget-view+json": {
       "model_id": "06a7ac14041a4586bf279f4d0baec566",
       "version_major": 2,
       "version_minor": 0
      },
      "text/plain": [
       "Validation: |          | 0/? [00:00<?, ?it/s]"
      ]
     },
     "metadata": {},
     "output_type": "display_data"
    },
    {
     "name": "stdout",
     "output_type": "stream",
     "text": [
      "[2024-05-14 01:51:09] \u001b[32mIntermediate result: {'mse': 0.2757616341114044, 'rmse': 0.5223219394683838, 'default': 0.2757616341114044}  (Index 11)\u001b[0m\n"
     ]
    },
    {
     "data": {
      "application/vnd.jupyter.widget-view+json": {
       "model_id": "cd87ae5cd38c4432aba25fbe6ef3df75",
       "version_major": 2,
       "version_minor": 0
      },
      "text/plain": [
       "Validation: |          | 0/? [00:00<?, ?it/s]"
      ]
     },
     "metadata": {},
     "output_type": "display_data"
    },
    {
     "name": "stdout",
     "output_type": "stream",
     "text": [
      "[2024-05-14 01:51:10] \u001b[32mIntermediate result: {'mse': 0.2726818025112152, 'rmse': 0.5192016959190369, 'default': 0.2726818025112152}  (Index 12)\u001b[0m\n"
     ]
    },
    {
     "data": {
      "application/vnd.jupyter.widget-view+json": {
       "model_id": "b19d49488c40429ab58e5fcada8e7d28",
       "version_major": 2,
       "version_minor": 0
      },
      "text/plain": [
       "Validation: |          | 0/? [00:00<?, ?it/s]"
      ]
     },
     "metadata": {},
     "output_type": "display_data"
    },
    {
     "name": "stdout",
     "output_type": "stream",
     "text": [
      "[2024-05-14 01:51:10] \u001b[32mIntermediate result: {'mse': 0.2704954445362091, 'rmse': 0.5171775221824646, 'default': 0.2704954445362091}  (Index 13)\u001b[0m\n"
     ]
    },
    {
     "data": {
      "application/vnd.jupyter.widget-view+json": {
       "model_id": "c24c60063d5d4ed39de73671dc254a89",
       "version_major": 2,
       "version_minor": 0
      },
      "text/plain": [
       "Validation: |          | 0/? [00:00<?, ?it/s]"
      ]
     },
     "metadata": {},
     "output_type": "display_data"
    },
    {
     "name": "stdout",
     "output_type": "stream",
     "text": [
      "[2024-05-14 01:51:11] \u001b[32mIntermediate result: {'mse': 0.26926666498184204, 'rmse': 0.5159916877746582, 'default': 0.26926666498184204}  (Index 14)\u001b[0m\n"
     ]
    },
    {
     "data": {
      "application/vnd.jupyter.widget-view+json": {
       "model_id": "f945af96c8cb4fb081989f50890192e0",
       "version_major": 2,
       "version_minor": 0
      },
      "text/plain": [
       "Validation: |          | 0/? [00:00<?, ?it/s]"
      ]
     },
     "metadata": {},
     "output_type": "display_data"
    },
    {
     "name": "stdout",
     "output_type": "stream",
     "text": [
      "[2024-05-14 01:51:11] \u001b[32mIntermediate result: {'mse': 0.26767438650131226, 'rmse': 0.5144939422607422, 'default': 0.26767438650131226}  (Index 15)\u001b[0m\n"
     ]
    },
    {
     "data": {
      "application/vnd.jupyter.widget-view+json": {
       "model_id": "2aa2a4b04461475394b3ab79e919959f",
       "version_major": 2,
       "version_minor": 0
      },
      "text/plain": [
       "Validation: |          | 0/? [00:00<?, ?it/s]"
      ]
     },
     "metadata": {},
     "output_type": "display_data"
    },
    {
     "name": "stdout",
     "output_type": "stream",
     "text": [
      "[2024-05-14 01:51:11] \u001b[32mIntermediate result: {'mse': 0.26601290702819824, 'rmse': 0.512839138507843, 'default': 0.26601290702819824}  (Index 16)\u001b[0m\n"
     ]
    },
    {
     "data": {
      "application/vnd.jupyter.widget-view+json": {
       "model_id": "aa5ca69dadc446d593390bff40f55442",
       "version_major": 2,
       "version_minor": 0
      },
      "text/plain": [
       "Validation: |          | 0/? [00:00<?, ?it/s]"
      ]
     },
     "metadata": {},
     "output_type": "display_data"
    },
    {
     "name": "stdout",
     "output_type": "stream",
     "text": [
      "[2024-05-14 01:51:12] \u001b[32mIntermediate result: {'mse': 0.26439422369003296, 'rmse': 0.5112988948822021, 'default': 0.26439422369003296}  (Index 17)\u001b[0m\n"
     ]
    },
    {
     "data": {
      "application/vnd.jupyter.widget-view+json": {
       "model_id": "4dbea98a02c345e8b07562a9390c0c03",
       "version_major": 2,
       "version_minor": 0
      },
      "text/plain": [
       "Validation: |          | 0/? [00:00<?, ?it/s]"
      ]
     },
     "metadata": {},
     "output_type": "display_data"
    },
    {
     "name": "stdout",
     "output_type": "stream",
     "text": [
      "[2024-05-14 01:51:12] \u001b[32mIntermediate result: {'mse': 0.26338502764701843, 'rmse': 0.5103438496589661, 'default': 0.26338502764701843}  (Index 18)\u001b[0m\n"
     ]
    },
    {
     "data": {
      "application/vnd.jupyter.widget-view+json": {
       "model_id": "089ba81a74814cc58eec2a65ab07e971",
       "version_major": 2,
       "version_minor": 0
      },
      "text/plain": [
       "Validation: |          | 0/? [00:00<?, ?it/s]"
      ]
     },
     "metadata": {},
     "output_type": "display_data"
    },
    {
     "name": "stdout",
     "output_type": "stream",
     "text": [
      "[2024-05-14 01:51:13] \u001b[32mIntermediate result: {'mse': 0.2618167996406555, 'rmse': 0.5088082551956177, 'default': 0.2618167996406555}  (Index 19)\u001b[0m\n"
     ]
    },
    {
     "data": {
      "application/vnd.jupyter.widget-view+json": {
       "model_id": "f211d42cb83e45ebb73100753ff550ca",
       "version_major": 2,
       "version_minor": 0
      },
      "text/plain": [
       "Validation: |          | 0/? [00:00<?, ?it/s]"
      ]
     },
     "metadata": {},
     "output_type": "display_data"
    },
    {
     "name": "stdout",
     "output_type": "stream",
     "text": [
      "[2024-05-14 01:51:13] \u001b[32mIntermediate result: {'mse': 0.2612992823123932, 'rmse': 0.5082762837409973, 'default': 0.2612992823123932}  (Index 20)\u001b[0m\n"
     ]
    },
    {
     "data": {
      "application/vnd.jupyter.widget-view+json": {
       "model_id": "b292f93c7b0f4873905a35f5dd355e04",
       "version_major": 2,
       "version_minor": 0
      },
      "text/plain": [
       "Validation: |          | 0/? [00:00<?, ?it/s]"
      ]
     },
     "metadata": {},
     "output_type": "display_data"
    },
    {
     "name": "stdout",
     "output_type": "stream",
     "text": [
      "[2024-05-14 01:51:14] \u001b[32mIntermediate result: {'mse': 0.25921356678009033, 'rmse': 0.5061895251274109, 'default': 0.25921356678009033}  (Index 21)\u001b[0m\n"
     ]
    },
    {
     "data": {
      "application/vnd.jupyter.widget-view+json": {
       "model_id": "c8c91ae8573f466aafa94fe22dcb193a",
       "version_major": 2,
       "version_minor": 0
      },
      "text/plain": [
       "Validation: |          | 0/? [00:00<?, ?it/s]"
      ]
     },
     "metadata": {},
     "output_type": "display_data"
    },
    {
     "name": "stdout",
     "output_type": "stream",
     "text": [
      "[2024-05-14 01:51:14] \u001b[32mIntermediate result: {'mse': 0.2583608329296112, 'rmse': 0.5054470300674438, 'default': 0.2583608329296112}  (Index 22)\u001b[0m\n"
     ]
    },
    {
     "data": {
      "application/vnd.jupyter.widget-view+json": {
       "model_id": "2b9ff465cf9e4ba0a95aeb302002638e",
       "version_major": 2,
       "version_minor": 0
      },
      "text/plain": [
       "Validation: |          | 0/? [00:00<?, ?it/s]"
      ]
     },
     "metadata": {},
     "output_type": "display_data"
    },
    {
     "name": "stdout",
     "output_type": "stream",
     "text": [
      "[2024-05-14 01:51:15] \u001b[32mIntermediate result: {'mse': 0.2577168643474579, 'rmse': 0.5048337578773499, 'default': 0.2577168643474579}  (Index 23)\u001b[0m\n"
     ]
    },
    {
     "data": {
      "application/vnd.jupyter.widget-view+json": {
       "model_id": "a0a18c0947834229b17b61c020a98f81",
       "version_major": 2,
       "version_minor": 0
      },
      "text/plain": [
       "Validation: |          | 0/? [00:00<?, ?it/s]"
      ]
     },
     "metadata": {},
     "output_type": "display_data"
    },
    {
     "name": "stdout",
     "output_type": "stream",
     "text": [
      "[2024-05-14 01:51:15] \u001b[32mIntermediate result: {'mse': 0.25611159205436707, 'rmse': 0.5032243728637695, 'default': 0.25611159205436707}  (Index 24)\u001b[0m\n"
     ]
    },
    {
     "data": {
      "application/vnd.jupyter.widget-view+json": {
       "model_id": "dbaa1c6204cd47bda2940a23d5796c58",
       "version_major": 2,
       "version_minor": 0
      },
      "text/plain": [
       "Validation: |          | 0/? [00:00<?, ?it/s]"
      ]
     },
     "metadata": {},
     "output_type": "display_data"
    },
    {
     "name": "stdout",
     "output_type": "stream",
     "text": [
      "[2024-05-14 01:51:16] \u001b[32mIntermediate result: {'mse': 0.25478070974349976, 'rmse': 0.5018427968025208, 'default': 0.25478070974349976}  (Index 25)\u001b[0m\n"
     ]
    },
    {
     "data": {
      "application/vnd.jupyter.widget-view+json": {
       "model_id": "9f0a6e28ccad418b94ee9cc934f82692",
       "version_major": 2,
       "version_minor": 0
      },
      "text/plain": [
       "Validation: |          | 0/? [00:00<?, ?it/s]"
      ]
     },
     "metadata": {},
     "output_type": "display_data"
    },
    {
     "name": "stdout",
     "output_type": "stream",
     "text": [
      "[2024-05-14 01:51:16] \u001b[32mIntermediate result: {'mse': 0.25425985455513, 'rmse': 0.501356840133667, 'default': 0.25425985455513}  (Index 26)\u001b[0m\n"
     ]
    },
    {
     "data": {
      "application/vnd.jupyter.widget-view+json": {
       "model_id": "974d31e1610149abbf934eaba6c34c8a",
       "version_major": 2,
       "version_minor": 0
      },
      "text/plain": [
       "Validation: |          | 0/? [00:00<?, ?it/s]"
      ]
     },
     "metadata": {},
     "output_type": "display_data"
    },
    {
     "name": "stdout",
     "output_type": "stream",
     "text": [
      "[2024-05-14 01:51:17] \u001b[32mIntermediate result: {'mse': 0.2535795569419861, 'rmse': 0.5007583498954773, 'default': 0.2535795569419861}  (Index 27)\u001b[0m\n"
     ]
    },
    {
     "data": {
      "application/vnd.jupyter.widget-view+json": {
       "model_id": "5b1b8bff1c5e474e8352ca6cf2c88eb7",
       "version_major": 2,
       "version_minor": 0
      },
      "text/plain": [
       "Validation: |          | 0/? [00:00<?, ?it/s]"
      ]
     },
     "metadata": {},
     "output_type": "display_data"
    },
    {
     "name": "stdout",
     "output_type": "stream",
     "text": [
      "[2024-05-14 01:51:17] \u001b[32mIntermediate result: {'mse': 0.25199514627456665, 'rmse': 0.49911147356033325, 'default': 0.25199514627456665}  (Index 28)\u001b[0m\n"
     ]
    },
    {
     "data": {
      "application/vnd.jupyter.widget-view+json": {
       "model_id": "e72dd2270cf4439b8e67baad23d33848",
       "version_major": 2,
       "version_minor": 0
      },
      "text/plain": [
       "Validation: |          | 0/? [00:00<?, ?it/s]"
      ]
     },
     "metadata": {},
     "output_type": "display_data"
    },
    {
     "name": "stdout",
     "output_type": "stream",
     "text": [
      "[2024-05-14 01:51:18] \u001b[32mIntermediate result: {'mse': 0.2513000965118408, 'rmse': 0.4984060227870941, 'default': 0.2513000965118408}  (Index 29)\u001b[0m\n"
     ]
    },
    {
     "data": {
      "application/vnd.jupyter.widget-view+json": {
       "model_id": "8d49a3c129034c4188bec99d00d79810",
       "version_major": 2,
       "version_minor": 0
      },
      "text/plain": [
       "Validation: |          | 0/? [00:00<?, ?it/s]"
      ]
     },
     "metadata": {},
     "output_type": "display_data"
    },
    {
     "name": "stdout",
     "output_type": "stream",
     "text": [
      "[2024-05-14 01:51:18] \u001b[32mIntermediate result: {'mse': 0.2513766288757324, 'rmse': 0.4985346496105194, 'default': 0.2513766288757324}  (Index 30)\u001b[0m\n"
     ]
    },
    {
     "data": {
      "application/vnd.jupyter.widget-view+json": {
       "model_id": "db4ca0e075784fa7a927f80e98477568",
       "version_major": 2,
       "version_minor": 0
      },
      "text/plain": [
       "Validation: |          | 0/? [00:00<?, ?it/s]"
      ]
     },
     "metadata": {},
     "output_type": "display_data"
    },
    {
     "name": "stdout",
     "output_type": "stream",
     "text": [
      "[2024-05-14 01:51:19] \u001b[32mIntermediate result: {'mse': 0.2503277063369751, 'rmse': 0.49755337834358215, 'default': 0.2503277063369751}  (Index 31)\u001b[0m\n"
     ]
    },
    {
     "data": {
      "application/vnd.jupyter.widget-view+json": {
       "model_id": "46dbcaa6afd34bdba6bb120e21789660",
       "version_major": 2,
       "version_minor": 0
      },
      "text/plain": [
       "Validation: |          | 0/? [00:00<?, ?it/s]"
      ]
     },
     "metadata": {},
     "output_type": "display_data"
    },
    {
     "name": "stdout",
     "output_type": "stream",
     "text": [
      "[2024-05-14 01:51:19] \u001b[32mIntermediate result: {'mse': 0.24974460899829865, 'rmse': 0.49681389331817627, 'default': 0.24974460899829865}  (Index 32)\u001b[0m\n"
     ]
    },
    {
     "data": {
      "application/vnd.jupyter.widget-view+json": {
       "model_id": "902b37ca4d78440abc800249102aa465",
       "version_major": 2,
       "version_minor": 0
      },
      "text/plain": [
       "Validation: |          | 0/? [00:00<?, ?it/s]"
      ]
     },
     "metadata": {},
     "output_type": "display_data"
    },
    {
     "name": "stdout",
     "output_type": "stream",
     "text": [
      "[2024-05-14 01:51:19] \u001b[32mIntermediate result: {'mse': 0.24868114292621613, 'rmse': 0.49584487080574036, 'default': 0.24868114292621613}  (Index 33)\u001b[0m\n"
     ]
    },
    {
     "data": {
      "application/vnd.jupyter.widget-view+json": {
       "model_id": "d6b929760d0e40f286470afd779039a9",
       "version_major": 2,
       "version_minor": 0
      },
      "text/plain": [
       "Validation: |          | 0/? [00:00<?, ?it/s]"
      ]
     },
     "metadata": {},
     "output_type": "display_data"
    },
    {
     "name": "stdout",
     "output_type": "stream",
     "text": [
      "[2024-05-14 01:51:20] \u001b[32mIntermediate result: {'mse': 0.24758578836917877, 'rmse': 0.4946666359901428, 'default': 0.24758578836917877}  (Index 34)\u001b[0m\n"
     ]
    },
    {
     "data": {
      "application/vnd.jupyter.widget-view+json": {
       "model_id": "c0902d221bbf443a86e053e6b3c6ba16",
       "version_major": 2,
       "version_minor": 0
      },
      "text/plain": [
       "Validation: |          | 0/? [00:00<?, ?it/s]"
      ]
     },
     "metadata": {},
     "output_type": "display_data"
    },
    {
     "name": "stdout",
     "output_type": "stream",
     "text": [
      "[2024-05-14 01:51:20] \u001b[32mIntermediate result: {'mse': 0.24725185334682465, 'rmse': 0.4943418502807617, 'default': 0.24725185334682465}  (Index 35)\u001b[0m\n"
     ]
    },
    {
     "data": {
      "application/vnd.jupyter.widget-view+json": {
       "model_id": "02b2da3b842e4c9faf21818bd0a8682e",
       "version_major": 2,
       "version_minor": 0
      },
      "text/plain": [
       "Validation: |          | 0/? [00:00<?, ?it/s]"
      ]
     },
     "metadata": {},
     "output_type": "display_data"
    },
    {
     "name": "stdout",
     "output_type": "stream",
     "text": [
      "[2024-05-14 01:51:21] \u001b[32mIntermediate result: {'mse': 0.2463676780462265, 'rmse': 0.49343758821487427, 'default': 0.2463676780462265}  (Index 36)\u001b[0m\n"
     ]
    },
    {
     "data": {
      "application/vnd.jupyter.widget-view+json": {
       "model_id": "bd8d60000b004935b98cc93eb67a26f9",
       "version_major": 2,
       "version_minor": 0
      },
      "text/plain": [
       "Validation: |          | 0/? [00:00<?, ?it/s]"
      ]
     },
     "metadata": {},
     "output_type": "display_data"
    },
    {
     "name": "stdout",
     "output_type": "stream",
     "text": [
      "[2024-05-14 01:51:21] \u001b[32mIntermediate result: {'mse': 0.24531827867031097, 'rmse': 0.49239838123321533, 'default': 0.24531827867031097}  (Index 37)\u001b[0m\n"
     ]
    },
    {
     "data": {
      "application/vnd.jupyter.widget-view+json": {
       "model_id": "5335b315793a49b2974efcf6e515e9b3",
       "version_major": 2,
       "version_minor": 0
      },
      "text/plain": [
       "Validation: |          | 0/? [00:00<?, ?it/s]"
      ]
     },
     "metadata": {},
     "output_type": "display_data"
    },
    {
     "name": "stdout",
     "output_type": "stream",
     "text": [
      "[2024-05-14 01:51:22] \u001b[32mIntermediate result: {'mse': 0.24592503905296326, 'rmse': 0.4929882884025574, 'default': 0.24592503905296326}  (Index 38)\u001b[0m\n"
     ]
    },
    {
     "data": {
      "application/vnd.jupyter.widget-view+json": {
       "model_id": "a8be6333c2da4922aeaf35d805b134d1",
       "version_major": 2,
       "version_minor": 0
      },
      "text/plain": [
       "Validation: |          | 0/? [00:00<?, ?it/s]"
      ]
     },
     "metadata": {},
     "output_type": "display_data"
    },
    {
     "name": "stdout",
     "output_type": "stream",
     "text": [
      "[2024-05-14 01:51:22] \u001b[32mIntermediate result: {'mse': 0.24456946551799774, 'rmse': 0.49164846539497375, 'default': 0.24456946551799774}  (Index 39)\u001b[0m\n"
     ]
    },
    {
     "data": {
      "application/vnd.jupyter.widget-view+json": {
       "model_id": "5034a5cc07c54afdac38da3b56084780",
       "version_major": 2,
       "version_minor": 0
      },
      "text/plain": [
       "Validation: |          | 0/? [00:00<?, ?it/s]"
      ]
     },
     "metadata": {},
     "output_type": "display_data"
    },
    {
     "name": "stdout",
     "output_type": "stream",
     "text": [
      "[2024-05-14 01:51:23] \u001b[32mIntermediate result: {'mse': 0.2444908320903778, 'rmse': 0.4915936589241028, 'default': 0.2444908320903778}  (Index 40)\u001b[0m\n"
     ]
    },
    {
     "data": {
      "application/vnd.jupyter.widget-view+json": {
       "model_id": "efe61776647a4177ba0b2af521482689",
       "version_major": 2,
       "version_minor": 0
      },
      "text/plain": [
       "Validation: |          | 0/? [00:00<?, ?it/s]"
      ]
     },
     "metadata": {},
     "output_type": "display_data"
    },
    {
     "name": "stdout",
     "output_type": "stream",
     "text": [
      "[2024-05-14 01:51:23] \u001b[32mIntermediate result: {'mse': 0.24400071799755096, 'rmse': 0.49115705490112305, 'default': 0.24400071799755096}  (Index 41)\u001b[0m\n"
     ]
    },
    {
     "data": {
      "application/vnd.jupyter.widget-view+json": {
       "model_id": "e9280a5b36c2423ba3ed5419fa5aa4d7",
       "version_major": 2,
       "version_minor": 0
      },
      "text/plain": [
       "Validation: |          | 0/? [00:00<?, ?it/s]"
      ]
     },
     "metadata": {},
     "output_type": "display_data"
    },
    {
     "name": "stdout",
     "output_type": "stream",
     "text": [
      "[2024-05-14 01:51:24] \u001b[32mIntermediate result: {'mse': 0.24342605471611023, 'rmse': 0.49059581756591797, 'default': 0.24342605471611023}  (Index 42)\u001b[0m\n"
     ]
    },
    {
     "data": {
      "application/vnd.jupyter.widget-view+json": {
       "model_id": "0d0991f428b14d44afe8ef758c60672a",
       "version_major": 2,
       "version_minor": 0
      },
      "text/plain": [
       "Validation: |          | 0/? [00:00<?, ?it/s]"
      ]
     },
     "metadata": {},
     "output_type": "display_data"
    },
    {
     "name": "stdout",
     "output_type": "stream",
     "text": [
      "[2024-05-14 01:51:24] \u001b[32mIntermediate result: {'mse': 0.24299456179141998, 'rmse': 0.4900326728820801, 'default': 0.24299456179141998}  (Index 43)\u001b[0m\n"
     ]
    },
    {
     "data": {
      "application/vnd.jupyter.widget-view+json": {
       "model_id": "513bb1ae4e8d42519702281062d647cc",
       "version_major": 2,
       "version_minor": 0
      },
      "text/plain": [
       "Validation: |          | 0/? [00:00<?, ?it/s]"
      ]
     },
     "metadata": {},
     "output_type": "display_data"
    },
    {
     "name": "stdout",
     "output_type": "stream",
     "text": [
      "[2024-05-14 01:51:25] \u001b[32mIntermediate result: {'mse': 0.24267065525054932, 'rmse': 0.4898702800273895, 'default': 0.24267065525054932}  (Index 44)\u001b[0m\n"
     ]
    },
    {
     "data": {
      "application/vnd.jupyter.widget-view+json": {
       "model_id": "c7822567e1f043ab8d9e1201b39d9338",
       "version_major": 2,
       "version_minor": 0
      },
      "text/plain": [
       "Validation: |          | 0/? [00:00<?, ?it/s]"
      ]
     },
     "metadata": {},
     "output_type": "display_data"
    },
    {
     "name": "stdout",
     "output_type": "stream",
     "text": [
      "[2024-05-14 01:51:25] \u001b[32mIntermediate result: {'mse': 0.24109923839569092, 'rmse': 0.4882029891014099, 'default': 0.24109923839569092}  (Index 45)\u001b[0m\n"
     ]
    },
    {
     "data": {
      "application/vnd.jupyter.widget-view+json": {
       "model_id": "c91ce9dbdd9349928f1025299e072e9b",
       "version_major": 2,
       "version_minor": 0
      },
      "text/plain": [
       "Validation: |          | 0/? [00:00<?, ?it/s]"
      ]
     },
     "metadata": {},
     "output_type": "display_data"
    },
    {
     "name": "stdout",
     "output_type": "stream",
     "text": [
      "[2024-05-14 01:51:26] \u001b[32mIntermediate result: {'mse': 0.2413003146648407, 'rmse': 0.4883432686328888, 'default': 0.2413003146648407}  (Index 46)\u001b[0m\n"
     ]
    },
    {
     "data": {
      "application/vnd.jupyter.widget-view+json": {
       "model_id": "0618d757ede54b75921c435e7c9bb3a3",
       "version_major": 2,
       "version_minor": 0
      },
      "text/plain": [
       "Validation: |          | 0/? [00:00<?, ?it/s]"
      ]
     },
     "metadata": {},
     "output_type": "display_data"
    },
    {
     "name": "stdout",
     "output_type": "stream",
     "text": [
      "[2024-05-14 01:51:26] \u001b[32mIntermediate result: {'mse': 0.240660160779953, 'rmse': 0.48774823546409607, 'default': 0.240660160779953}  (Index 47)\u001b[0m\n"
     ]
    },
    {
     "data": {
      "application/vnd.jupyter.widget-view+json": {
       "model_id": "8b9c3a8e2e454b95bb75e56a8ee31b52",
       "version_major": 2,
       "version_minor": 0
      },
      "text/plain": [
       "Validation: |          | 0/? [00:00<?, ?it/s]"
      ]
     },
     "metadata": {},
     "output_type": "display_data"
    },
    {
     "name": "stdout",
     "output_type": "stream",
     "text": [
      "[2024-05-14 01:51:27] \u001b[32mIntermediate result: {'mse': 0.24014754593372345, 'rmse': 0.4872003197669983, 'default': 0.24014754593372345}  (Index 48)\u001b[0m\n"
     ]
    },
    {
     "data": {
      "application/vnd.jupyter.widget-view+json": {
       "model_id": "5b7755ca0ca04d5f8a73326de8ea92b1",
       "version_major": 2,
       "version_minor": 0
      },
      "text/plain": [
       "Validation: |          | 0/? [00:00<?, ?it/s]"
      ]
     },
     "metadata": {},
     "output_type": "display_data"
    },
    {
     "name": "stdout",
     "output_type": "stream",
     "text": [
      "[2024-05-14 01:51:27] \u001b[32mIntermediate result: {'mse': 0.24079853296279907, 'rmse': 0.4878478944301605, 'default': 0.24079853296279907}  (Index 49)\u001b[0m\n"
     ]
    },
    {
     "data": {
      "application/vnd.jupyter.widget-view+json": {
       "model_id": "2e481303cf824ff48a0261234e155b72",
       "version_major": 2,
       "version_minor": 0
      },
      "text/plain": [
       "Validation: |          | 0/? [00:00<?, ?it/s]"
      ]
     },
     "metadata": {},
     "output_type": "display_data"
    },
    {
     "name": "stdout",
     "output_type": "stream",
     "text": [
      "[2024-05-14 01:51:28] \u001b[32mIntermediate result: {'mse': 0.23956871032714844, 'rmse': 0.48651790618896484, 'default': 0.23956871032714844}  (Index 50)\u001b[0m\n"
     ]
    },
    {
     "data": {
      "application/vnd.jupyter.widget-view+json": {
       "model_id": "462f4b0f88a24f959e9886cb58b309b5",
       "version_major": 2,
       "version_minor": 0
      },
      "text/plain": [
       "Validation: |          | 0/? [00:00<?, ?it/s]"
      ]
     },
     "metadata": {},
     "output_type": "display_data"
    },
    {
     "name": "stdout",
     "output_type": "stream",
     "text": [
      "[2024-05-14 01:51:28] \u001b[32mIntermediate result: {'mse': 0.23907454311847687, 'rmse': 0.4861368238925934, 'default': 0.23907454311847687}  (Index 51)\u001b[0m\n"
     ]
    },
    {
     "data": {
      "application/vnd.jupyter.widget-view+json": {
       "model_id": "202a33e1792641b48fad9956e68eb15d",
       "version_major": 2,
       "version_minor": 0
      },
      "text/plain": [
       "Validation: |          | 0/? [00:00<?, ?it/s]"
      ]
     },
     "metadata": {},
     "output_type": "display_data"
    },
    {
     "name": "stdout",
     "output_type": "stream",
     "text": [
      "[2024-05-14 01:51:29] \u001b[32mIntermediate result: {'mse': 0.23904894292354584, 'rmse': 0.4861510396003723, 'default': 0.23904894292354584}  (Index 52)\u001b[0m\n"
     ]
    },
    {
     "data": {
      "application/vnd.jupyter.widget-view+json": {
       "model_id": "ed2cfa1b810547a3b3ae141f70a49cb8",
       "version_major": 2,
       "version_minor": 0
      },
      "text/plain": [
       "Validation: |          | 0/? [00:00<?, ?it/s]"
      ]
     },
     "metadata": {},
     "output_type": "display_data"
    },
    {
     "name": "stdout",
     "output_type": "stream",
     "text": [
      "[2024-05-14 01:51:29] \u001b[32mIntermediate result: {'mse': 0.23855234682559967, 'rmse': 0.4855602979660034, 'default': 0.23855234682559967}  (Index 53)\u001b[0m\n"
     ]
    },
    {
     "data": {
      "application/vnd.jupyter.widget-view+json": {
       "model_id": "b26c8bf3010747a1a60ce8967671bb1d",
       "version_major": 2,
       "version_minor": 0
      },
      "text/plain": [
       "Validation: |          | 0/? [00:00<?, ?it/s]"
      ]
     },
     "metadata": {},
     "output_type": "display_data"
    },
    {
     "name": "stdout",
     "output_type": "stream",
     "text": [
      "[2024-05-14 01:51:30] \u001b[32mIntermediate result: {'mse': 0.23780791461467743, 'rmse': 0.4848633408546448, 'default': 0.23780791461467743}  (Index 54)\u001b[0m\n"
     ]
    },
    {
     "data": {
      "application/vnd.jupyter.widget-view+json": {
       "model_id": "8e307d1105a0495493baf111720f1c18",
       "version_major": 2,
       "version_minor": 0
      },
      "text/plain": [
       "Validation: |          | 0/? [00:00<?, ?it/s]"
      ]
     },
     "metadata": {},
     "output_type": "display_data"
    },
    {
     "name": "stdout",
     "output_type": "stream",
     "text": [
      "[2024-05-14 01:51:30] \u001b[32mIntermediate result: {'mse': 0.23760639131069183, 'rmse': 0.4847193956375122, 'default': 0.23760639131069183}  (Index 55)\u001b[0m\n"
     ]
    },
    {
     "data": {
      "application/vnd.jupyter.widget-view+json": {
       "model_id": "bbc60f1e3fc54d4c919a08750e421635",
       "version_major": 2,
       "version_minor": 0
      },
      "text/plain": [
       "Validation: |          | 0/? [00:00<?, ?it/s]"
      ]
     },
     "metadata": {},
     "output_type": "display_data"
    },
    {
     "name": "stdout",
     "output_type": "stream",
     "text": [
      "[2024-05-14 01:51:31] \u001b[32mIntermediate result: {'mse': 0.23728549480438232, 'rmse': 0.484283447265625, 'default': 0.23728549480438232}  (Index 56)\u001b[0m\n"
     ]
    },
    {
     "data": {
      "application/vnd.jupyter.widget-view+json": {
       "model_id": "b14b8de226c34d23b05fe43d7319c5ac",
       "version_major": 2,
       "version_minor": 0
      },
      "text/plain": [
       "Validation: |          | 0/? [00:00<?, ?it/s]"
      ]
     },
     "metadata": {},
     "output_type": "display_data"
    },
    {
     "name": "stdout",
     "output_type": "stream",
     "text": [
      "[2024-05-14 01:51:31] \u001b[32mIntermediate result: {'mse': 0.23685266077518463, 'rmse': 0.48389220237731934, 'default': 0.23685266077518463}  (Index 57)\u001b[0m\n"
     ]
    },
    {
     "data": {
      "application/vnd.jupyter.widget-view+json": {
       "model_id": "35769f08d45d4b3ba623085c06d7099f",
       "version_major": 2,
       "version_minor": 0
      },
      "text/plain": [
       "Validation: |          | 0/? [00:00<?, ?it/s]"
      ]
     },
     "metadata": {},
     "output_type": "display_data"
    },
    {
     "name": "stdout",
     "output_type": "stream",
     "text": [
      "[2024-05-14 01:51:32] \u001b[32mIntermediate result: {'mse': 0.23591220378875732, 'rmse': 0.4828217923641205, 'default': 0.23591220378875732}  (Index 58)\u001b[0m\n"
     ]
    },
    {
     "data": {
      "application/vnd.jupyter.widget-view+json": {
       "model_id": "7b76a3fb1fe8420e9448d871c4f62564",
       "version_major": 2,
       "version_minor": 0
      },
      "text/plain": [
       "Validation: |          | 0/? [00:00<?, ?it/s]"
      ]
     },
     "metadata": {},
     "output_type": "display_data"
    },
    {
     "name": "stdout",
     "output_type": "stream",
     "text": [
      "[2024-05-14 01:51:32] \u001b[32mIntermediate result: {'mse': 0.23622599244117737, 'rmse': 0.48326990008354187, 'default': 0.23622599244117737}  (Index 59)\u001b[0m\n"
     ]
    },
    {
     "data": {
      "application/vnd.jupyter.widget-view+json": {
       "model_id": "fd91c6a5eb4d40d9b761e404d33fa6e6",
       "version_major": 2,
       "version_minor": 0
      },
      "text/plain": [
       "Validation: |          | 0/? [00:00<?, ?it/s]"
      ]
     },
     "metadata": {},
     "output_type": "display_data"
    },
    {
     "name": "stdout",
     "output_type": "stream",
     "text": [
      "[2024-05-14 01:51:33] \u001b[32mIntermediate result: {'mse': 0.23510517179965973, 'rmse': 0.48204952478408813, 'default': 0.23510517179965973}  (Index 60)\u001b[0m\n"
     ]
    },
    {
     "data": {
      "application/vnd.jupyter.widget-view+json": {
       "model_id": "718780aca6924e93ac18744a628c7a4c",
       "version_major": 2,
       "version_minor": 0
      },
      "text/plain": [
       "Validation: |          | 0/? [00:00<?, ?it/s]"
      ]
     },
     "metadata": {},
     "output_type": "display_data"
    },
    {
     "name": "stdout",
     "output_type": "stream",
     "text": [
      "[2024-05-14 01:51:33] \u001b[32mIntermediate result: {'mse': 0.23525649309158325, 'rmse': 0.4821036458015442, 'default': 0.23525649309158325}  (Index 61)\u001b[0m\n"
     ]
    },
    {
     "data": {
      "application/vnd.jupyter.widget-view+json": {
       "model_id": "e54862144eac4f11be5bd755773c2312",
       "version_major": 2,
       "version_minor": 0
      },
      "text/plain": [
       "Validation: |          | 0/? [00:00<?, ?it/s]"
      ]
     },
     "metadata": {},
     "output_type": "display_data"
    },
    {
     "name": "stdout",
     "output_type": "stream",
     "text": [
      "[2024-05-14 01:51:34] \u001b[32mIntermediate result: {'mse': 0.2350260615348816, 'rmse': 0.48189666867256165, 'default': 0.2350260615348816}  (Index 62)\u001b[0m\n"
     ]
    },
    {
     "data": {
      "application/vnd.jupyter.widget-view+json": {
       "model_id": "db6eb8b7b7314c1eb7c99739b4701e07",
       "version_major": 2,
       "version_minor": 0
      },
      "text/plain": [
       "Validation: |          | 0/? [00:00<?, ?it/s]"
      ]
     },
     "metadata": {},
     "output_type": "display_data"
    },
    {
     "name": "stdout",
     "output_type": "stream",
     "text": [
      "[2024-05-14 01:51:34] \u001b[32mIntermediate result: {'mse': 0.23395009338855743, 'rmse': 0.48080822825431824, 'default': 0.23395009338855743}  (Index 63)\u001b[0m\n"
     ]
    },
    {
     "data": {
      "application/vnd.jupyter.widget-view+json": {
       "model_id": "b3b2bde82a8547658a9e49eace612693",
       "version_major": 2,
       "version_minor": 0
      },
      "text/plain": [
       "Validation: |          | 0/? [00:00<?, ?it/s]"
      ]
     },
     "metadata": {},
     "output_type": "display_data"
    },
    {
     "name": "stdout",
     "output_type": "stream",
     "text": [
      "[2024-05-14 01:51:35] \u001b[32mIntermediate result: {'mse': 0.23421259224414825, 'rmse': 0.4811541736125946, 'default': 0.23421259224414825}  (Index 64)\u001b[0m\n"
     ]
    },
    {
     "data": {
      "application/vnd.jupyter.widget-view+json": {
       "model_id": "be7dd8c88108492dbf10b9a33ed786ec",
       "version_major": 2,
       "version_minor": 0
      },
      "text/plain": [
       "Validation: |          | 0/? [00:00<?, ?it/s]"
      ]
     },
     "metadata": {},
     "output_type": "display_data"
    },
    {
     "name": "stdout",
     "output_type": "stream",
     "text": [
      "[2024-05-14 01:51:35] \u001b[32mIntermediate result: {'mse': 0.2340325564146042, 'rmse': 0.48096171021461487, 'default': 0.2340325564146042}  (Index 65)\u001b[0m\n"
     ]
    },
    {
     "data": {
      "application/vnd.jupyter.widget-view+json": {
       "model_id": "43ff274a31264ac0935706ef0cf115e0",
       "version_major": 2,
       "version_minor": 0
      },
      "text/plain": [
       "Validation: |          | 0/? [00:00<?, ?it/s]"
      ]
     },
     "metadata": {},
     "output_type": "display_data"
    },
    {
     "name": "stdout",
     "output_type": "stream",
     "text": [
      "[2024-05-14 01:51:36] \u001b[32mIntermediate result: {'mse': 0.2334955781698227, 'rmse': 0.48031601309776306, 'default': 0.2334955781698227}  (Index 66)\u001b[0m\n"
     ]
    },
    {
     "data": {
      "application/vnd.jupyter.widget-view+json": {
       "model_id": "6dedd19427b843738198e2831f618039",
       "version_major": 2,
       "version_minor": 0
      },
      "text/plain": [
       "Validation: |          | 0/? [00:00<?, ?it/s]"
      ]
     },
     "metadata": {},
     "output_type": "display_data"
    },
    {
     "name": "stdout",
     "output_type": "stream",
     "text": [
      "[2024-05-14 01:51:36] \u001b[32mIntermediate result: {'mse': 0.23414911329746246, 'rmse': 0.48106849193573, 'default': 0.23414911329746246}  (Index 67)\u001b[0m\n"
     ]
    },
    {
     "data": {
      "application/vnd.jupyter.widget-view+json": {
       "model_id": "64fecd16c7314f2491792bbee0545e7a",
       "version_major": 2,
       "version_minor": 0
      },
      "text/plain": [
       "Validation: |          | 0/? [00:00<?, ?it/s]"
      ]
     },
     "metadata": {},
     "output_type": "display_data"
    },
    {
     "name": "stdout",
     "output_type": "stream",
     "text": [
      "[2024-05-14 01:51:36] \u001b[32mIntermediate result: {'mse': 0.23326082527637482, 'rmse': 0.48016902804374695, 'default': 0.23326082527637482}  (Index 68)\u001b[0m\n"
     ]
    },
    {
     "data": {
      "application/vnd.jupyter.widget-view+json": {
       "model_id": "124174ec20ca4638910ea6eacbe04854",
       "version_major": 2,
       "version_minor": 0
      },
      "text/plain": [
       "Validation: |          | 0/? [00:00<?, ?it/s]"
      ]
     },
     "metadata": {},
     "output_type": "display_data"
    },
    {
     "name": "stdout",
     "output_type": "stream",
     "text": [
      "[2024-05-14 01:51:37] \u001b[32mIntermediate result: {'mse': 0.23283948004245758, 'rmse': 0.479686975479126, 'default': 0.23283948004245758}  (Index 69)\u001b[0m\n"
     ]
    },
    {
     "data": {
      "application/vnd.jupyter.widget-view+json": {
       "model_id": "d1ad3e91546240898d3096b66488c689",
       "version_major": 2,
       "version_minor": 0
      },
      "text/plain": [
       "Validation: |          | 0/? [00:00<?, ?it/s]"
      ]
     },
     "metadata": {},
     "output_type": "display_data"
    },
    {
     "name": "stdout",
     "output_type": "stream",
     "text": [
      "[2024-05-14 01:51:37] \u001b[32mIntermediate result: {'mse': 0.23256756365299225, 'rmse': 0.47936493158340454, 'default': 0.23256756365299225}  (Index 70)\u001b[0m\n"
     ]
    },
    {
     "data": {
      "application/vnd.jupyter.widget-view+json": {
       "model_id": "d6e7ffc2f5fd4f96911d803f650beab4",
       "version_major": 2,
       "version_minor": 0
      },
      "text/plain": [
       "Validation: |          | 0/? [00:00<?, ?it/s]"
      ]
     },
     "metadata": {},
     "output_type": "display_data"
    },
    {
     "name": "stdout",
     "output_type": "stream",
     "text": [
      "[2024-05-14 01:51:38] \u001b[32mIntermediate result: {'mse': 0.2320507913827896, 'rmse': 0.478931725025177, 'default': 0.2320507913827896}  (Index 71)\u001b[0m\n"
     ]
    },
    {
     "data": {
      "application/vnd.jupyter.widget-view+json": {
       "model_id": "968a83c2a5424fdebe647ee89ee5a28e",
       "version_major": 2,
       "version_minor": 0
      },
      "text/plain": [
       "Validation: |          | 0/? [00:00<?, ?it/s]"
      ]
     },
     "metadata": {},
     "output_type": "display_data"
    },
    {
     "name": "stdout",
     "output_type": "stream",
     "text": [
      "[2024-05-14 01:51:38] \u001b[32mIntermediate result: {'mse': 0.23130880296230316, 'rmse': 0.47817787528038025, 'default': 0.23130880296230316}  (Index 72)\u001b[0m\n"
     ]
    },
    {
     "data": {
      "application/vnd.jupyter.widget-view+json": {
       "model_id": "5daead2120fb433f801f79825342557e",
       "version_major": 2,
       "version_minor": 0
      },
      "text/plain": [
       "Validation: |          | 0/? [00:00<?, ?it/s]"
      ]
     },
     "metadata": {},
     "output_type": "display_data"
    },
    {
     "name": "stdout",
     "output_type": "stream",
     "text": [
      "[2024-05-14 01:51:39] \u001b[32mIntermediate result: {'mse': 0.23189155757427216, 'rmse': 0.4788006842136383, 'default': 0.23189155757427216}  (Index 73)\u001b[0m\n"
     ]
    },
    {
     "data": {
      "application/vnd.jupyter.widget-view+json": {
       "model_id": "84c483b146e84c10a3caf28abdcc1485",
       "version_major": 2,
       "version_minor": 0
      },
      "text/plain": [
       "Validation: |          | 0/? [00:00<?, ?it/s]"
      ]
     },
     "metadata": {},
     "output_type": "display_data"
    },
    {
     "name": "stdout",
     "output_type": "stream",
     "text": [
      "[2024-05-14 01:51:39] \u001b[32mIntermediate result: {'mse': 0.23117069900035858, 'rmse': 0.4780157506465912, 'default': 0.23117069900035858}  (Index 74)\u001b[0m\n"
     ]
    },
    {
     "data": {
      "application/vnd.jupyter.widget-view+json": {
       "model_id": "3ab9cea703204b97af5e8c1252b9e93e",
       "version_major": 2,
       "version_minor": 0
      },
      "text/plain": [
       "Validation: |          | 0/? [00:00<?, ?it/s]"
      ]
     },
     "metadata": {},
     "output_type": "display_data"
    },
    {
     "name": "stdout",
     "output_type": "stream",
     "text": [
      "[2024-05-14 01:51:40] \u001b[32mIntermediate result: {'mse': 0.2308538258075714, 'rmse': 0.47777438163757324, 'default': 0.2308538258075714}  (Index 75)\u001b[0m\n"
     ]
    },
    {
     "data": {
      "application/vnd.jupyter.widget-view+json": {
       "model_id": "dbe4d9d4dea146bbaa2fabf119be9bd7",
       "version_major": 2,
       "version_minor": 0
      },
      "text/plain": [
       "Validation: |          | 0/? [00:00<?, ?it/s]"
      ]
     },
     "metadata": {},
     "output_type": "display_data"
    },
    {
     "name": "stdout",
     "output_type": "stream",
     "text": [
      "[2024-05-14 01:51:40] \u001b[32mIntermediate result: {'mse': 0.2302437275648117, 'rmse': 0.4770318269729614, 'default': 0.2302437275648117}  (Index 76)\u001b[0m\n"
     ]
    },
    {
     "data": {
      "application/vnd.jupyter.widget-view+json": {
       "model_id": "0ceb9614c51f4a9886d6953de931c883",
       "version_major": 2,
       "version_minor": 0
      },
      "text/plain": [
       "Validation: |          | 0/? [00:00<?, ?it/s]"
      ]
     },
     "metadata": {},
     "output_type": "display_data"
    },
    {
     "name": "stdout",
     "output_type": "stream",
     "text": [
      "[2024-05-14 01:51:41] \u001b[32mIntermediate result: {'mse': 0.2295316755771637, 'rmse': 0.476388543844223, 'default': 0.2295316755771637}  (Index 77)\u001b[0m\n"
     ]
    },
    {
     "data": {
      "application/vnd.jupyter.widget-view+json": {
       "model_id": "d3de46a950724c51897277e7dbcb2464",
       "version_major": 2,
       "version_minor": 0
      },
      "text/plain": [
       "Validation: |          | 0/? [00:00<?, ?it/s]"
      ]
     },
     "metadata": {},
     "output_type": "display_data"
    },
    {
     "name": "stdout",
     "output_type": "stream",
     "text": [
      "[2024-05-14 01:51:41] \u001b[32mIntermediate result: {'mse': 0.22980760037899017, 'rmse': 0.47658753395080566, 'default': 0.22980760037899017}  (Index 78)\u001b[0m\n"
     ]
    },
    {
     "data": {
      "application/vnd.jupyter.widget-view+json": {
       "model_id": "065f9a3d039843259404437c7ead9924",
       "version_major": 2,
       "version_minor": 0
      },
      "text/plain": [
       "Validation: |          | 0/? [00:00<?, ?it/s]"
      ]
     },
     "metadata": {},
     "output_type": "display_data"
    },
    {
     "name": "stdout",
     "output_type": "stream",
     "text": [
      "[2024-05-14 01:51:42] \u001b[32mIntermediate result: {'mse': 0.2294721156358719, 'rmse': 0.47622016072273254, 'default': 0.2294721156358719}  (Index 79)\u001b[0m\n"
     ]
    },
    {
     "data": {
      "application/vnd.jupyter.widget-view+json": {
       "model_id": "dee222bc7b784f29a3a31e64fe329005",
       "version_major": 2,
       "version_minor": 0
      },
      "text/plain": [
       "Validation: |          | 0/? [00:00<?, ?it/s]"
      ]
     },
     "metadata": {},
     "output_type": "display_data"
    },
    {
     "name": "stdout",
     "output_type": "stream",
     "text": [
      "[2024-05-14 01:51:42] \u001b[32mIntermediate result: {'mse': 0.22917309403419495, 'rmse': 0.4758780896663666, 'default': 0.22917309403419495}  (Index 80)\u001b[0m\n"
     ]
    },
    {
     "data": {
      "application/vnd.jupyter.widget-view+json": {
       "model_id": "f14a2b4436344c26bd3b8886d3bea5e6",
       "version_major": 2,
       "version_minor": 0
      },
      "text/plain": [
       "Validation: |          | 0/? [00:00<?, ?it/s]"
      ]
     },
     "metadata": {},
     "output_type": "display_data"
    },
    {
     "name": "stdout",
     "output_type": "stream",
     "text": [
      "[2024-05-14 01:51:43] \u001b[32mIntermediate result: {'mse': 0.22984448075294495, 'rmse': 0.47655433416366577, 'default': 0.22984448075294495}  (Index 81)\u001b[0m\n"
     ]
    },
    {
     "data": {
      "application/vnd.jupyter.widget-view+json": {
       "model_id": "bb661c9076384d43a7c7a3f6cd6331d5",
       "version_major": 2,
       "version_minor": 0
      },
      "text/plain": [
       "Validation: |          | 0/? [00:00<?, ?it/s]"
      ]
     },
     "metadata": {},
     "output_type": "display_data"
    },
    {
     "name": "stdout",
     "output_type": "stream",
     "text": [
      "[2024-05-14 01:51:43] \u001b[32mIntermediate result: {'mse': 0.22897514700889587, 'rmse': 0.47577399015426636, 'default': 0.22897514700889587}  (Index 82)\u001b[0m\n"
     ]
    },
    {
     "data": {
      "application/vnd.jupyter.widget-view+json": {
       "model_id": "85fc27e03d6d42668a2c1d24ab53bdb7",
       "version_major": 2,
       "version_minor": 0
      },
      "text/plain": [
       "Validation: |          | 0/? [00:00<?, ?it/s]"
      ]
     },
     "metadata": {},
     "output_type": "display_data"
    },
    {
     "name": "stdout",
     "output_type": "stream",
     "text": [
      "[2024-05-14 01:51:44] \u001b[32mIntermediate result: {'mse': 0.22808344662189484, 'rmse': 0.4748058021068573, 'default': 0.22808344662189484}  (Index 83)\u001b[0m\n"
     ]
    },
    {
     "data": {
      "application/vnd.jupyter.widget-view+json": {
       "model_id": "7b1b5634fd774e1d9885c0ad23764409",
       "version_major": 2,
       "version_minor": 0
      },
      "text/plain": [
       "Validation: |          | 0/? [00:00<?, ?it/s]"
      ]
     },
     "metadata": {},
     "output_type": "display_data"
    },
    {
     "name": "stdout",
     "output_type": "stream",
     "text": [
      "[2024-05-14 01:51:44] \u001b[32mIntermediate result: {'mse': 0.22935955226421356, 'rmse': 0.4760175347328186, 'default': 0.22935955226421356}  (Index 84)\u001b[0m\n"
     ]
    },
    {
     "data": {
      "application/vnd.jupyter.widget-view+json": {
       "model_id": "2744a8f9e8de4166afabe55741e3a975",
       "version_major": 2,
       "version_minor": 0
      },
      "text/plain": [
       "Validation: |          | 0/? [00:00<?, ?it/s]"
      ]
     },
     "metadata": {},
     "output_type": "display_data"
    },
    {
     "name": "stdout",
     "output_type": "stream",
     "text": [
      "[2024-05-14 01:51:45] \u001b[32mIntermediate result: {'mse': 0.22869113087654114, 'rmse': 0.475358784198761, 'default': 0.22869113087654114}  (Index 85)\u001b[0m\n"
     ]
    },
    {
     "data": {
      "application/vnd.jupyter.widget-view+json": {
       "model_id": "3ad28dd3a66b46768c13b9050596e04f",
       "version_major": 2,
       "version_minor": 0
      },
      "text/plain": [
       "Validation: |          | 0/? [00:00<?, ?it/s]"
      ]
     },
     "metadata": {},
     "output_type": "display_data"
    },
    {
     "name": "stdout",
     "output_type": "stream",
     "text": [
      "[2024-05-14 01:51:45] \u001b[32mIntermediate result: {'mse': 0.2276465743780136, 'rmse': 0.4742990732192993, 'default': 0.2276465743780136}  (Index 86)\u001b[0m\n"
     ]
    },
    {
     "data": {
      "application/vnd.jupyter.widget-view+json": {
       "model_id": "ecc6fb36675f402397bd38b2b5926a53",
       "version_major": 2,
       "version_minor": 0
      },
      "text/plain": [
       "Validation: |          | 0/? [00:00<?, ?it/s]"
      ]
     },
     "metadata": {},
     "output_type": "display_data"
    },
    {
     "name": "stdout",
     "output_type": "stream",
     "text": [
      "[2024-05-14 01:51:46] \u001b[32mIntermediate result: {'mse': 0.22794821858406067, 'rmse': 0.4747222661972046, 'default': 0.22794821858406067}  (Index 87)\u001b[0m\n"
     ]
    },
    {
     "data": {
      "application/vnd.jupyter.widget-view+json": {
       "model_id": "04b6ea2b7cf84c7787be674b1556a805",
       "version_major": 2,
       "version_minor": 0
      },
      "text/plain": [
       "Validation: |          | 0/? [00:00<?, ?it/s]"
      ]
     },
     "metadata": {},
     "output_type": "display_data"
    },
    {
     "name": "stdout",
     "output_type": "stream",
     "text": [
      "[2024-05-14 01:51:46] \u001b[32mIntermediate result: {'mse': 0.22747518122196198, 'rmse': 0.47413524985313416, 'default': 0.22747518122196198}  (Index 88)\u001b[0m\n"
     ]
    },
    {
     "data": {
      "application/vnd.jupyter.widget-view+json": {
       "model_id": "e1184a354d774435887127bd6f5a1f38",
       "version_major": 2,
       "version_minor": 0
      },
      "text/plain": [
       "Validation: |          | 0/? [00:00<?, ?it/s]"
      ]
     },
     "metadata": {},
     "output_type": "display_data"
    },
    {
     "name": "stdout",
     "output_type": "stream",
     "text": [
      "[2024-05-14 01:51:47] \u001b[32mIntermediate result: {'mse': 0.227542445063591, 'rmse': 0.47417908906936646, 'default': 0.227542445063591}  (Index 89)\u001b[0m\n"
     ]
    },
    {
     "data": {
      "application/vnd.jupyter.widget-view+json": {
       "model_id": "ddeec19e64a440fb81f3dac7464bbf78",
       "version_major": 2,
       "version_minor": 0
      },
      "text/plain": [
       "Validation: |          | 0/? [00:00<?, ?it/s]"
      ]
     },
     "metadata": {},
     "output_type": "display_data"
    },
    {
     "name": "stdout",
     "output_type": "stream",
     "text": [
      "[2024-05-14 01:51:47] \u001b[32mIntermediate result: {'mse': 0.22736673057079315, 'rmse': 0.474004864692688, 'default': 0.22736673057079315}  (Index 90)\u001b[0m\n"
     ]
    },
    {
     "data": {
      "application/vnd.jupyter.widget-view+json": {
       "model_id": "17f865f3bc0b493eb8437c52ef1f0314",
       "version_major": 2,
       "version_minor": 0
      },
      "text/plain": [
       "Validation: |          | 0/? [00:00<?, ?it/s]"
      ]
     },
     "metadata": {},
     "output_type": "display_data"
    },
    {
     "name": "stdout",
     "output_type": "stream",
     "text": [
      "[2024-05-14 01:51:48] \u001b[32mIntermediate result: {'mse': 0.22656434774398804, 'rmse': 0.4732023775577545, 'default': 0.22656434774398804}  (Index 91)\u001b[0m\n"
     ]
    },
    {
     "data": {
      "application/vnd.jupyter.widget-view+json": {
       "model_id": "9e928bc34d59480fad8bd7066e2bbaad",
       "version_major": 2,
       "version_minor": 0
      },
      "text/plain": [
       "Validation: |          | 0/? [00:00<?, ?it/s]"
      ]
     },
     "metadata": {},
     "output_type": "display_data"
    },
    {
     "name": "stdout",
     "output_type": "stream",
     "text": [
      "[2024-05-14 01:51:48] \u001b[32mIntermediate result: {'mse': 0.22630280256271362, 'rmse': 0.47299519181251526, 'default': 0.22630280256271362}  (Index 92)\u001b[0m\n"
     ]
    },
    {
     "data": {
      "application/vnd.jupyter.widget-view+json": {
       "model_id": "820a00b765cd4b11ba0c4a3654c09752",
       "version_major": 2,
       "version_minor": 0
      },
      "text/plain": [
       "Validation: |          | 0/? [00:00<?, ?it/s]"
      ]
     },
     "metadata": {},
     "output_type": "display_data"
    },
    {
     "name": "stdout",
     "output_type": "stream",
     "text": [
      "[2024-05-14 01:51:49] \u001b[32mIntermediate result: {'mse': 0.22640058398246765, 'rmse': 0.47311702370643616, 'default': 0.22640058398246765}  (Index 93)\u001b[0m\n"
     ]
    },
    {
     "data": {
      "application/vnd.jupyter.widget-view+json": {
       "model_id": "388fb1ff83a64e5181fd7a18a0d1c585",
       "version_major": 2,
       "version_minor": 0
      },
      "text/plain": [
       "Validation: |          | 0/? [00:00<?, ?it/s]"
      ]
     },
     "metadata": {},
     "output_type": "display_data"
    },
    {
     "name": "stdout",
     "output_type": "stream",
     "text": [
      "[2024-05-14 01:51:49] \u001b[32mIntermediate result: {'mse': 0.2256111353635788, 'rmse': 0.4722817838191986, 'default': 0.2256111353635788}  (Index 94)\u001b[0m\n"
     ]
    },
    {
     "data": {
      "application/vnd.jupyter.widget-view+json": {
       "model_id": "afee09b2e966491092acc17f395a4b74",
       "version_major": 2,
       "version_minor": 0
      },
      "text/plain": [
       "Validation: |          | 0/? [00:00<?, ?it/s]"
      ]
     },
     "metadata": {},
     "output_type": "display_data"
    },
    {
     "name": "stdout",
     "output_type": "stream",
     "text": [
      "[2024-05-14 01:51:50] \u001b[32mIntermediate result: {'mse': 0.22607029974460602, 'rmse': 0.4728262424468994, 'default': 0.22607029974460602}  (Index 95)\u001b[0m\n"
     ]
    },
    {
     "data": {
      "application/vnd.jupyter.widget-view+json": {
       "model_id": "a798e55a2af6402dabf8565d11d5da5e",
       "version_major": 2,
       "version_minor": 0
      },
      "text/plain": [
       "Validation: |          | 0/? [00:00<?, ?it/s]"
      ]
     },
     "metadata": {},
     "output_type": "display_data"
    },
    {
     "name": "stdout",
     "output_type": "stream",
     "text": [
      "[2024-05-14 01:51:50] \u001b[32mIntermediate result: {'mse': 0.22613631188869476, 'rmse': 0.47288572788238525, 'default': 0.22613631188869476}  (Index 96)\u001b[0m\n"
     ]
    },
    {
     "data": {
      "application/vnd.jupyter.widget-view+json": {
       "model_id": "266553ddafbe4c7586fa3f95b8064104",
       "version_major": 2,
       "version_minor": 0
      },
      "text/plain": [
       "Validation: |          | 0/? [00:00<?, ?it/s]"
      ]
     },
     "metadata": {},
     "output_type": "display_data"
    },
    {
     "name": "stdout",
     "output_type": "stream",
     "text": [
      "[2024-05-14 01:51:51] \u001b[32mIntermediate result: {'mse': 0.2254074662923813, 'rmse': 0.4721101224422455, 'default': 0.2254074662923813}  (Index 97)\u001b[0m\n"
     ]
    },
    {
     "data": {
      "application/vnd.jupyter.widget-view+json": {
       "model_id": "9f1007d096254c8aafe79b06de92888a",
       "version_major": 2,
       "version_minor": 0
      },
      "text/plain": [
       "Validation: |          | 0/? [00:00<?, ?it/s]"
      ]
     },
     "metadata": {},
     "output_type": "display_data"
    },
    {
     "name": "stdout",
     "output_type": "stream",
     "text": [
      "[2024-05-14 01:51:51] \u001b[32mIntermediate result: {'mse': 0.22483696043491364, 'rmse': 0.47143906354904175, 'default': 0.22483696043491364}  (Index 98)\u001b[0m\n"
     ]
    },
    {
     "data": {
      "application/vnd.jupyter.widget-view+json": {
       "model_id": "d976d9c554c24d9ea97de0bf3543ae39",
       "version_major": 2,
       "version_minor": 0
      },
      "text/plain": [
       "Validation: |          | 0/? [00:00<?, ?it/s]"
      ]
     },
     "metadata": {},
     "output_type": "display_data"
    },
    {
     "name": "stdout",
     "output_type": "stream",
     "text": [
      "[2024-05-14 01:51:52] \u001b[32mIntermediate result: {'mse': 0.22566144168376923, 'rmse': 0.4723599851131439, 'default': 0.22566144168376923}  (Index 99)\u001b[0m\n"
     ]
    },
    {
     "data": {
      "application/vnd.jupyter.widget-view+json": {
       "model_id": "9a59133669914633a94d6ae47d08d58f",
       "version_major": 2,
       "version_minor": 0
      },
      "text/plain": [
       "Validation: |          | 0/? [00:00<?, ?it/s]"
      ]
     },
     "metadata": {},
     "output_type": "display_data"
    },
    {
     "name": "stdout",
     "output_type": "stream",
     "text": [
      "[2024-05-14 01:51:52] \u001b[32mIntermediate result: {'mse': 0.22515663504600525, 'rmse': 0.4718613922595978, 'default': 0.22515663504600525}  (Index 100)\u001b[0m\n"
     ]
    },
    {
     "data": {
      "application/vnd.jupyter.widget-view+json": {
       "model_id": "b4c5b967535d48708265f939dc0898ed",
       "version_major": 2,
       "version_minor": 0
      },
      "text/plain": [
       "Validation: |          | 0/? [00:00<?, ?it/s]"
      ]
     },
     "metadata": {},
     "output_type": "display_data"
    },
    {
     "name": "stdout",
     "output_type": "stream",
     "text": [
      "[2024-05-14 01:51:53] \u001b[32mIntermediate result: {'mse': 0.2246062159538269, 'rmse': 0.4711928963661194, 'default': 0.2246062159538269}  (Index 101)\u001b[0m\n"
     ]
    },
    {
     "data": {
      "application/vnd.jupyter.widget-view+json": {
       "model_id": "1614ae87e88c4bfab84537a561787572",
       "version_major": 2,
       "version_minor": 0
      },
      "text/plain": [
       "Validation: |          | 0/? [00:00<?, ?it/s]"
      ]
     },
     "metadata": {},
     "output_type": "display_data"
    },
    {
     "name": "stdout",
     "output_type": "stream",
     "text": [
      "[2024-05-14 01:51:53] \u001b[32mIntermediate result: {'mse': 0.22446966171264648, 'rmse': 0.4710986912250519, 'default': 0.22446966171264648}  (Index 102)\u001b[0m\n"
     ]
    },
    {
     "data": {
      "application/vnd.jupyter.widget-view+json": {
       "model_id": "f6df14b5b6be4bbd90ae93886a82f37b",
       "version_major": 2,
       "version_minor": 0
      },
      "text/plain": [
       "Validation: |          | 0/? [00:00<?, ?it/s]"
      ]
     },
     "metadata": {},
     "output_type": "display_data"
    },
    {
     "name": "stdout",
     "output_type": "stream",
     "text": [
      "[2024-05-14 01:51:54] \u001b[32mIntermediate result: {'mse': 0.22475598752498627, 'rmse': 0.471379816532135, 'default': 0.22475598752498627}  (Index 103)\u001b[0m\n"
     ]
    },
    {
     "data": {
      "application/vnd.jupyter.widget-view+json": {
       "model_id": "63a90ef1d525476e813caed52a62c3c1",
       "version_major": 2,
       "version_minor": 0
      },
      "text/plain": [
       "Validation: |          | 0/? [00:00<?, ?it/s]"
      ]
     },
     "metadata": {},
     "output_type": "display_data"
    },
    {
     "name": "stdout",
     "output_type": "stream",
     "text": [
      "[2024-05-14 01:51:54] \u001b[32mIntermediate result: {'mse': 0.22461217641830444, 'rmse': 0.4712158441543579, 'default': 0.22461217641830444}  (Index 104)\u001b[0m\n"
     ]
    },
    {
     "data": {
      "application/vnd.jupyter.widget-view+json": {
       "model_id": "6e9e7194d94c42d1a2a1cfa36e03027b",
       "version_major": 2,
       "version_minor": 0
      },
      "text/plain": [
       "Validation: |          | 0/? [00:00<?, ?it/s]"
      ]
     },
     "metadata": {},
     "output_type": "display_data"
    },
    {
     "name": "stdout",
     "output_type": "stream",
     "text": [
      "[2024-05-14 01:51:55] \u001b[32mIntermediate result: {'mse': 0.22380012273788452, 'rmse': 0.47046008706092834, 'default': 0.22380012273788452}  (Index 105)\u001b[0m\n"
     ]
    },
    {
     "data": {
      "application/vnd.jupyter.widget-view+json": {
       "model_id": "b27ed587cff54057a92dac7af7f72f27",
       "version_major": 2,
       "version_minor": 0
      },
      "text/plain": [
       "Validation: |          | 0/? [00:00<?, ?it/s]"
      ]
     },
     "metadata": {},
     "output_type": "display_data"
    },
    {
     "name": "stdout",
     "output_type": "stream",
     "text": [
      "[2024-05-14 01:51:55] \u001b[32mIntermediate result: {'mse': 0.22503678500652313, 'rmse': 0.47161492705345154, 'default': 0.22503678500652313}  (Index 106)\u001b[0m\n"
     ]
    },
    {
     "data": {
      "application/vnd.jupyter.widget-view+json": {
       "model_id": "eb80c95a0cc345edb06e66113a62929e",
       "version_major": 2,
       "version_minor": 0
      },
      "text/plain": [
       "Validation: |          | 0/? [00:00<?, ?it/s]"
      ]
     },
     "metadata": {},
     "output_type": "display_data"
    },
    {
     "name": "stdout",
     "output_type": "stream",
     "text": [
      "[2024-05-14 01:51:56] \u001b[32mIntermediate result: {'mse': 0.2237820029258728, 'rmse': 0.47039955854415894, 'default': 0.2237820029258728}  (Index 107)\u001b[0m\n"
     ]
    },
    {
     "data": {
      "application/vnd.jupyter.widget-view+json": {
       "model_id": "b4a02ba685a94296b8e7b7b7929f3e00",
       "version_major": 2,
       "version_minor": 0
      },
      "text/plain": [
       "Validation: |          | 0/? [00:00<?, ?it/s]"
      ]
     },
     "metadata": {},
     "output_type": "display_data"
    },
    {
     "name": "stdout",
     "output_type": "stream",
     "text": [
      "[2024-05-14 01:51:56] \u001b[32mIntermediate result: {'mse': 0.22346562147140503, 'rmse': 0.4699731767177582, 'default': 0.22346562147140503}  (Index 108)\u001b[0m\n"
     ]
    },
    {
     "data": {
      "application/vnd.jupyter.widget-view+json": {
       "model_id": "ac98756dc00e4850ae73f52e49fec080",
       "version_major": 2,
       "version_minor": 0
      },
      "text/plain": [
       "Validation: |          | 0/? [00:00<?, ?it/s]"
      ]
     },
     "metadata": {},
     "output_type": "display_data"
    },
    {
     "name": "stdout",
     "output_type": "stream",
     "text": [
      "[2024-05-14 01:51:57] \u001b[32mIntermediate result: {'mse': 0.22309806942939758, 'rmse': 0.4696856141090393, 'default': 0.22309806942939758}  (Index 109)\u001b[0m\n"
     ]
    },
    {
     "data": {
      "application/vnd.jupyter.widget-view+json": {
       "model_id": "e2deeb8236814bc7b4a336e54db0118e",
       "version_major": 2,
       "version_minor": 0
      },
      "text/plain": [
       "Validation: |          | 0/? [00:00<?, ?it/s]"
      ]
     },
     "metadata": {},
     "output_type": "display_data"
    },
    {
     "name": "stdout",
     "output_type": "stream",
     "text": [
      "[2024-05-14 01:51:57] \u001b[32mIntermediate result: {'mse': 0.22301802039146423, 'rmse': 0.46953168511390686, 'default': 0.22301802039146423}  (Index 110)\u001b[0m\n"
     ]
    },
    {
     "data": {
      "application/vnd.jupyter.widget-view+json": {
       "model_id": "dda516f14cf54e77aca0f34ac8b4b1e5",
       "version_major": 2,
       "version_minor": 0
      },
      "text/plain": [
       "Validation: |          | 0/? [00:00<?, ?it/s]"
      ]
     },
     "metadata": {},
     "output_type": "display_data"
    },
    {
     "name": "stdout",
     "output_type": "stream",
     "text": [
      "[2024-05-14 01:51:58] \u001b[32mIntermediate result: {'mse': 0.22385339438915253, 'rmse': 0.4703499376773834, 'default': 0.22385339438915253}  (Index 111)\u001b[0m\n"
     ]
    },
    {
     "data": {
      "application/vnd.jupyter.widget-view+json": {
       "model_id": "bd0f99b880bf457c971c6eb12b2ccf1e",
       "version_major": 2,
       "version_minor": 0
      },
      "text/plain": [
       "Validation: |          | 0/? [00:00<?, ?it/s]"
      ]
     },
     "metadata": {},
     "output_type": "display_data"
    },
    {
     "name": "stdout",
     "output_type": "stream",
     "text": [
      "[2024-05-14 01:51:58] \u001b[32mIntermediate result: {'mse': 0.22412648797035217, 'rmse': 0.470671683549881, 'default': 0.22412648797035217}  (Index 112)\u001b[0m\n"
     ]
    },
    {
     "data": {
      "application/vnd.jupyter.widget-view+json": {
       "model_id": "33d7fb4a894a417684b5ac35f16a59a5",
       "version_major": 2,
       "version_minor": 0
      },
      "text/plain": [
       "Validation: |          | 0/? [00:00<?, ?it/s]"
      ]
     },
     "metadata": {},
     "output_type": "display_data"
    },
    {
     "name": "stdout",
     "output_type": "stream",
     "text": [
      "[2024-05-14 01:51:59] \u001b[32mIntermediate result: {'mse': 0.2228439599275589, 'rmse': 0.4693170487880707, 'default': 0.2228439599275589}  (Index 113)\u001b[0m\n"
     ]
    },
    {
     "data": {
      "application/vnd.jupyter.widget-view+json": {
       "model_id": "c14a1331b34a47ae805d2a7a74c01aab",
       "version_major": 2,
       "version_minor": 0
      },
      "text/plain": [
       "Validation: |          | 0/? [00:00<?, ?it/s]"
      ]
     },
     "metadata": {},
     "output_type": "display_data"
    },
    {
     "name": "stdout",
     "output_type": "stream",
     "text": [
      "[2024-05-14 01:51:59] \u001b[32mIntermediate result: {'mse': 0.221928209066391, 'rmse': 0.4684615731239319, 'default': 0.221928209066391}  (Index 114)\u001b[0m\n"
     ]
    },
    {
     "data": {
      "application/vnd.jupyter.widget-view+json": {
       "model_id": "5eaed72cb38644c884c5fb58879c7b6f",
       "version_major": 2,
       "version_minor": 0
      },
      "text/plain": [
       "Validation: |          | 0/? [00:00<?, ?it/s]"
      ]
     },
     "metadata": {},
     "output_type": "display_data"
    },
    {
     "name": "stdout",
     "output_type": "stream",
     "text": [
      "[2024-05-14 01:52:00] \u001b[32mIntermediate result: {'mse': 0.22204053401947021, 'rmse': 0.4685004651546478, 'default': 0.22204053401947021}  (Index 115)\u001b[0m\n"
     ]
    },
    {
     "data": {
      "application/vnd.jupyter.widget-view+json": {
       "model_id": "187d399762b04574b547071eeabb5855",
       "version_major": 2,
       "version_minor": 0
      },
      "text/plain": [
       "Validation: |          | 0/? [00:00<?, ?it/s]"
      ]
     },
     "metadata": {},
     "output_type": "display_data"
    },
    {
     "name": "stdout",
     "output_type": "stream",
     "text": [
      "[2024-05-14 01:52:00] \u001b[32mIntermediate result: {'mse': 0.22283132374286652, 'rmse': 0.46931663155555725, 'default': 0.22283132374286652}  (Index 116)\u001b[0m\n"
     ]
    },
    {
     "data": {
      "application/vnd.jupyter.widget-view+json": {
       "model_id": "d2af2a84430a4c809ba8e9718a58973a",
       "version_major": 2,
       "version_minor": 0
      },
      "text/plain": [
       "Validation: |          | 0/? [00:00<?, ?it/s]"
      ]
     },
     "metadata": {},
     "output_type": "display_data"
    },
    {
     "name": "stdout",
     "output_type": "stream",
     "text": [
      "[2024-05-14 01:52:01] \u001b[32mIntermediate result: {'mse': 0.2221902310848236, 'rmse': 0.4685981273651123, 'default': 0.2221902310848236}  (Index 117)\u001b[0m\n"
     ]
    },
    {
     "data": {
      "application/vnd.jupyter.widget-view+json": {
       "model_id": "1b0e27e87d5a4f998663f68158a3c086",
       "version_major": 2,
       "version_minor": 0
      },
      "text/plain": [
       "Validation: |          | 0/? [00:00<?, ?it/s]"
      ]
     },
     "metadata": {},
     "output_type": "display_data"
    },
    {
     "name": "stdout",
     "output_type": "stream",
     "text": [
      "[2024-05-14 01:52:01] \u001b[32mIntermediate result: {'mse': 0.22189871966838837, 'rmse': 0.4682951271533966, 'default': 0.22189871966838837}  (Index 118)\u001b[0m\n"
     ]
    },
    {
     "data": {
      "application/vnd.jupyter.widget-view+json": {
       "model_id": "197c44fa45fb48949eb644efa015a619",
       "version_major": 2,
       "version_minor": 0
      },
      "text/plain": [
       "Validation: |          | 0/? [00:00<?, ?it/s]"
      ]
     },
     "metadata": {},
     "output_type": "display_data"
    },
    {
     "name": "stdout",
     "output_type": "stream",
     "text": [
      "[2024-05-14 01:52:02] \u001b[32mIntermediate result: {'mse': 0.22083759307861328, 'rmse': 0.46726804971694946, 'default': 0.22083759307861328}  (Index 119)\u001b[0m\n"
     ]
    },
    {
     "data": {
      "application/vnd.jupyter.widget-view+json": {
       "model_id": "33b33effb53a41c797bf3e9ea5c516a8",
       "version_major": 2,
       "version_minor": 0
      },
      "text/plain": [
       "Validation: |          | 0/? [00:00<?, ?it/s]"
      ]
     },
     "metadata": {},
     "output_type": "display_data"
    },
    {
     "name": "stdout",
     "output_type": "stream",
     "text": [
      "[2024-05-14 01:52:02] \u001b[32mIntermediate result: {'mse': 0.22180484235286713, 'rmse': 0.46823403239250183, 'default': 0.22180484235286713}  (Index 120)\u001b[0m\n"
     ]
    },
    {
     "data": {
      "application/vnd.jupyter.widget-view+json": {
       "model_id": "4b0f56434d1848ff8eb6c3a1a8864aa9",
       "version_major": 2,
       "version_minor": 0
      },
      "text/plain": [
       "Validation: |          | 0/? [00:00<?, ?it/s]"
      ]
     },
     "metadata": {},
     "output_type": "display_data"
    },
    {
     "name": "stdout",
     "output_type": "stream",
     "text": [
      "[2024-05-14 01:52:03] \u001b[32mIntermediate result: {'mse': 0.2216862291097641, 'rmse': 0.4681755602359772, 'default': 0.2216862291097641}  (Index 121)\u001b[0m\n"
     ]
    },
    {
     "data": {
      "application/vnd.jupyter.widget-view+json": {
       "model_id": "9e5b3959547048b7902f88c266798365",
       "version_major": 2,
       "version_minor": 0
      },
      "text/plain": [
       "Validation: |          | 0/? [00:00<?, ?it/s]"
      ]
     },
     "metadata": {},
     "output_type": "display_data"
    },
    {
     "name": "stdout",
     "output_type": "stream",
     "text": [
      "[2024-05-14 01:52:03] \u001b[32mIntermediate result: {'mse': 0.2213190346956253, 'rmse': 0.467752605676651, 'default': 0.2213190346956253}  (Index 122)\u001b[0m\n"
     ]
    },
    {
     "data": {
      "application/vnd.jupyter.widget-view+json": {
       "model_id": "f25e8a7eaf774e3c89fefb98a1324399",
       "version_major": 2,
       "version_minor": 0
      },
      "text/plain": [
       "Validation: |          | 0/? [00:00<?, ?it/s]"
      ]
     },
     "metadata": {},
     "output_type": "display_data"
    },
    {
     "name": "stdout",
     "output_type": "stream",
     "text": [
      "[2024-05-14 01:52:04] \u001b[32mIntermediate result: {'mse': 0.22062116861343384, 'rmse': 0.46705153584480286, 'default': 0.22062116861343384}  (Index 123)\u001b[0m\n"
     ]
    },
    {
     "data": {
      "application/vnd.jupyter.widget-view+json": {
       "model_id": "e812260ce45344b9bd10825efec0beee",
       "version_major": 2,
       "version_minor": 0
      },
      "text/plain": [
       "Validation: |          | 0/? [00:00<?, ?it/s]"
      ]
     },
     "metadata": {},
     "output_type": "display_data"
    },
    {
     "name": "stdout",
     "output_type": "stream",
     "text": [
      "[2024-05-14 01:52:04] \u001b[32mIntermediate result: {'mse': 0.2209407091140747, 'rmse': 0.46737757325172424, 'default': 0.2209407091140747}  (Index 124)\u001b[0m\n"
     ]
    },
    {
     "data": {
      "application/vnd.jupyter.widget-view+json": {
       "model_id": "cbb00c9d3cc84e06b4b13786bb40be97",
       "version_major": 2,
       "version_minor": 0
      },
      "text/plain": [
       "Validation: |          | 0/? [00:00<?, ?it/s]"
      ]
     },
     "metadata": {},
     "output_type": "display_data"
    },
    {
     "name": "stdout",
     "output_type": "stream",
     "text": [
      "[2024-05-14 01:52:05] \u001b[32mIntermediate result: {'mse': 0.22139126062393188, 'rmse': 0.46779850125312805, 'default': 0.22139126062393188}  (Index 125)\u001b[0m\n"
     ]
    },
    {
     "data": {
      "application/vnd.jupyter.widget-view+json": {
       "model_id": "52ad70e909604edca6895e8cf2e773ea",
       "version_major": 2,
       "version_minor": 0
      },
      "text/plain": [
       "Validation: |          | 0/? [00:00<?, ?it/s]"
      ]
     },
     "metadata": {},
     "output_type": "display_data"
    },
    {
     "name": "stdout",
     "output_type": "stream",
     "text": [
      "[2024-05-14 01:52:05] \u001b[32mIntermediate result: {'mse': 0.2203957736492157, 'rmse': 0.4667590260505676, 'default': 0.2203957736492157}  (Index 126)\u001b[0m\n"
     ]
    },
    {
     "data": {
      "application/vnd.jupyter.widget-view+json": {
       "model_id": "6d7a20296c0a409ca59732d97fe0e4ac",
       "version_major": 2,
       "version_minor": 0
      },
      "text/plain": [
       "Validation: |          | 0/? [00:00<?, ?it/s]"
      ]
     },
     "metadata": {},
     "output_type": "display_data"
    },
    {
     "name": "stdout",
     "output_type": "stream",
     "text": [
      "[2024-05-14 01:52:06] \u001b[32mIntermediate result: {'mse': 0.21995767951011658, 'rmse': 0.46631672978401184, 'default': 0.21995767951011658}  (Index 127)\u001b[0m\n"
     ]
    },
    {
     "data": {
      "application/vnd.jupyter.widget-view+json": {
       "model_id": "7243191b47ea4d34bd8590e30ea09c02",
       "version_major": 2,
       "version_minor": 0
      },
      "text/plain": [
       "Validation: |          | 0/? [00:00<?, ?it/s]"
      ]
     },
     "metadata": {},
     "output_type": "display_data"
    },
    {
     "name": "stdout",
     "output_type": "stream",
     "text": [
      "[2024-05-14 01:52:06] \u001b[32mIntermediate result: {'mse': 0.22009874880313873, 'rmse': 0.46649110317230225, 'default': 0.22009874880313873}  (Index 128)\u001b[0m\n"
     ]
    },
    {
     "data": {
      "application/vnd.jupyter.widget-view+json": {
       "model_id": "cc05b66d682343458b7a9d1099fcb972",
       "version_major": 2,
       "version_minor": 0
      },
      "text/plain": [
       "Validation: |          | 0/? [00:00<?, ?it/s]"
      ]
     },
     "metadata": {},
     "output_type": "display_data"
    },
    {
     "name": "stdout",
     "output_type": "stream",
     "text": [
      "[2024-05-14 01:52:07] \u001b[32mIntermediate result: {'mse': 0.21960793435573578, 'rmse': 0.4659542143344879, 'default': 0.21960793435573578}  (Index 129)\u001b[0m\n"
     ]
    },
    {
     "data": {
      "application/vnd.jupyter.widget-view+json": {
       "model_id": "f067e5ca5b384e18aad42b033b6d2e61",
       "version_major": 2,
       "version_minor": 0
      },
      "text/plain": [
       "Validation: |          | 0/? [00:00<?, ?it/s]"
      ]
     },
     "metadata": {},
     "output_type": "display_data"
    },
    {
     "name": "stdout",
     "output_type": "stream",
     "text": [
      "[2024-05-14 01:52:07] \u001b[32mIntermediate result: {'mse': 0.22011126577854156, 'rmse': 0.46641838550567627, 'default': 0.22011126577854156}  (Index 130)\u001b[0m\n"
     ]
    },
    {
     "data": {
      "application/vnd.jupyter.widget-view+json": {
       "model_id": "9156a4507f7a449097481036d9e1ef85",
       "version_major": 2,
       "version_minor": 0
      },
      "text/plain": [
       "Validation: |          | 0/? [00:00<?, ?it/s]"
      ]
     },
     "metadata": {},
     "output_type": "display_data"
    },
    {
     "name": "stdout",
     "output_type": "stream",
     "text": [
      "[2024-05-14 01:52:08] \u001b[32mIntermediate result: {'mse': 0.2202417254447937, 'rmse': 0.4666409194469452, 'default': 0.2202417254447937}  (Index 131)\u001b[0m\n"
     ]
    },
    {
     "data": {
      "application/vnd.jupyter.widget-view+json": {
       "model_id": "58263c98cfe84aa78bc31e52ee581053",
       "version_major": 2,
       "version_minor": 0
      },
      "text/plain": [
       "Validation: |          | 0/? [00:00<?, ?it/s]"
      ]
     },
     "metadata": {},
     "output_type": "display_data"
    },
    {
     "name": "stdout",
     "output_type": "stream",
     "text": [
      "[2024-05-14 01:52:08] \u001b[32mIntermediate result: {'mse': 0.21956433355808258, 'rmse': 0.465904176235199, 'default': 0.21956433355808258}  (Index 132)\u001b[0m\n"
     ]
    },
    {
     "data": {
      "application/vnd.jupyter.widget-view+json": {
       "model_id": "451a26acaae042f3a22dcec3ade9b778",
       "version_major": 2,
       "version_minor": 0
      },
      "text/plain": [
       "Validation: |          | 0/? [00:00<?, ?it/s]"
      ]
     },
     "metadata": {},
     "output_type": "display_data"
    },
    {
     "name": "stdout",
     "output_type": "stream",
     "text": [
      "[2024-05-14 01:52:09] \u001b[32mIntermediate result: {'mse': 0.21931777894496918, 'rmse': 0.46566882729530334, 'default': 0.21931777894496918}  (Index 133)\u001b[0m\n"
     ]
    },
    {
     "data": {
      "application/vnd.jupyter.widget-view+json": {
       "model_id": "6cfa7908583641a0af8ffd9891e3b085",
       "version_major": 2,
       "version_minor": 0
      },
      "text/plain": [
       "Validation: |          | 0/? [00:00<?, ?it/s]"
      ]
     },
     "metadata": {},
     "output_type": "display_data"
    },
    {
     "name": "stdout",
     "output_type": "stream",
     "text": [
      "[2024-05-14 01:52:09] \u001b[32mIntermediate result: {'mse': 0.21987959742546082, 'rmse': 0.46616753935813904, 'default': 0.21987959742546082}  (Index 134)\u001b[0m\n"
     ]
    },
    {
     "data": {
      "application/vnd.jupyter.widget-view+json": {
       "model_id": "4370e9cfdedb410fbb2704bc8bd87fea",
       "version_major": 2,
       "version_minor": 0
      },
      "text/plain": [
       "Validation: |          | 0/? [00:00<?, ?it/s]"
      ]
     },
     "metadata": {},
     "output_type": "display_data"
    },
    {
     "name": "stdout",
     "output_type": "stream",
     "text": [
      "[2024-05-14 01:52:10] \u001b[32mIntermediate result: {'mse': 0.2191673070192337, 'rmse': 0.46550196409225464, 'default': 0.2191673070192337}  (Index 135)\u001b[0m\n"
     ]
    },
    {
     "data": {
      "application/vnd.jupyter.widget-view+json": {
       "model_id": "87ac26bf05c94d56a2eee9b4b24f1caa",
       "version_major": 2,
       "version_minor": 0
      },
      "text/plain": [
       "Validation: |          | 0/? [00:00<?, ?it/s]"
      ]
     },
     "metadata": {},
     "output_type": "display_data"
    },
    {
     "name": "stdout",
     "output_type": "stream",
     "text": [
      "[2024-05-14 01:52:10] \u001b[32mIntermediate result: {'mse': 0.21832235157489777, 'rmse': 0.46461671590805054, 'default': 0.21832235157489777}  (Index 136)\u001b[0m\n"
     ]
    },
    {
     "data": {
      "application/vnd.jupyter.widget-view+json": {
       "model_id": "031b5441ba984c26bc83bd69c772aefa",
       "version_major": 2,
       "version_minor": 0
      },
      "text/plain": [
       "Validation: |          | 0/? [00:00<?, ?it/s]"
      ]
     },
     "metadata": {},
     "output_type": "display_data"
    },
    {
     "name": "stdout",
     "output_type": "stream",
     "text": [
      "[2024-05-14 01:52:11] \u001b[32mIntermediate result: {'mse': 0.21968114376068115, 'rmse': 0.46599531173706055, 'default': 0.21968114376068115}  (Index 137)\u001b[0m\n"
     ]
    },
    {
     "data": {
      "application/vnd.jupyter.widget-view+json": {
       "model_id": "bbd3ae6c388445f28725506fd3b5e91e",
       "version_major": 2,
       "version_minor": 0
      },
      "text/plain": [
       "Validation: |          | 0/? [00:00<?, ?it/s]"
      ]
     },
     "metadata": {},
     "output_type": "display_data"
    },
    {
     "name": "stdout",
     "output_type": "stream",
     "text": [
      "[2024-05-14 01:52:11] \u001b[32mIntermediate result: {'mse': 0.22069810330867767, 'rmse': 0.46710506081581116, 'default': 0.22069810330867767}  (Index 138)\u001b[0m\n"
     ]
    },
    {
     "data": {
      "application/vnd.jupyter.widget-view+json": {
       "model_id": "9ca4ea4fffce488394da41563054dbd8",
       "version_major": 2,
       "version_minor": 0
      },
      "text/plain": [
       "Validation: |          | 0/? [00:00<?, ?it/s]"
      ]
     },
     "metadata": {},
     "output_type": "display_data"
    },
    {
     "name": "stdout",
     "output_type": "stream",
     "text": [
      "[2024-05-14 01:52:12] \u001b[32mIntermediate result: {'mse': 0.2188902348279953, 'rmse': 0.465195894241333, 'default': 0.2188902348279953}  (Index 139)\u001b[0m\n"
     ]
    },
    {
     "data": {
      "application/vnd.jupyter.widget-view+json": {
       "model_id": "0a8b9ea940ac4dc7adb157f82971d6ca",
       "version_major": 2,
       "version_minor": 0
      },
      "text/plain": [
       "Validation: |          | 0/? [00:00<?, ?it/s]"
      ]
     },
     "metadata": {},
     "output_type": "display_data"
    },
    {
     "name": "stdout",
     "output_type": "stream",
     "text": [
      "[2024-05-14 01:52:12] \u001b[32mIntermediate result: {'mse': 0.21821171045303345, 'rmse': 0.46444541215896606, 'default': 0.21821171045303345}  (Index 140)\u001b[0m\n"
     ]
    },
    {
     "data": {
      "application/vnd.jupyter.widget-view+json": {
       "model_id": "c358bbcbfc0540ec8028ff87d40c9ecd",
       "version_major": 2,
       "version_minor": 0
      },
      "text/plain": [
       "Validation: |          | 0/? [00:00<?, ?it/s]"
      ]
     },
     "metadata": {},
     "output_type": "display_data"
    },
    {
     "name": "stdout",
     "output_type": "stream",
     "text": [
      "[2024-05-14 01:52:13] \u001b[32mIntermediate result: {'mse': 0.21851930022239685, 'rmse': 0.46476036310195923, 'default': 0.21851930022239685}  (Index 141)\u001b[0m\n"
     ]
    },
    {
     "data": {
      "application/vnd.jupyter.widget-view+json": {
       "model_id": "e411b723b79e41e0adf2fbb71afc0497",
       "version_major": 2,
       "version_minor": 0
      },
      "text/plain": [
       "Validation: |          | 0/? [00:00<?, ?it/s]"
      ]
     },
     "metadata": {},
     "output_type": "display_data"
    },
    {
     "name": "stdout",
     "output_type": "stream",
     "text": [
      "[2024-05-14 01:52:13] \u001b[32mIntermediate result: {'mse': 0.21785947680473328, 'rmse': 0.4641134738922119, 'default': 0.21785947680473328}  (Index 142)\u001b[0m\n"
     ]
    },
    {
     "data": {
      "application/vnd.jupyter.widget-view+json": {
       "model_id": "46da85d7f5c44998bf0fc75857279182",
       "version_major": 2,
       "version_minor": 0
      },
      "text/plain": [
       "Validation: |          | 0/? [00:00<?, ?it/s]"
      ]
     },
     "metadata": {},
     "output_type": "display_data"
    },
    {
     "name": "stdout",
     "output_type": "stream",
     "text": [
      "[2024-05-14 01:52:14] \u001b[32mIntermediate result: {'mse': 0.21870820224285126, 'rmse': 0.4649590849876404, 'default': 0.21870820224285126}  (Index 143)\u001b[0m\n"
     ]
    },
    {
     "data": {
      "application/vnd.jupyter.widget-view+json": {
       "model_id": "9b065212229843e2ae51148d137240c7",
       "version_major": 2,
       "version_minor": 0
      },
      "text/plain": [
       "Validation: |          | 0/? [00:00<?, ?it/s]"
      ]
     },
     "metadata": {},
     "output_type": "display_data"
    },
    {
     "name": "stdout",
     "output_type": "stream",
     "text": [
      "[2024-05-14 01:52:14] \u001b[32mIntermediate result: {'mse': 0.21815989911556244, 'rmse': 0.46439626812934875, 'default': 0.21815989911556244}  (Index 144)\u001b[0m\n"
     ]
    },
    {
     "data": {
      "application/vnd.jupyter.widget-view+json": {
       "model_id": "ccfa21c97b044ded9eab5ca9f50c71c4",
       "version_major": 2,
       "version_minor": 0
      },
      "text/plain": [
       "Validation: |          | 0/? [00:00<?, ?it/s]"
      ]
     },
     "metadata": {},
     "output_type": "display_data"
    },
    {
     "name": "stdout",
     "output_type": "stream",
     "text": [
      "[2024-05-14 01:52:15] \u001b[32mIntermediate result: {'mse': 0.21790628135204315, 'rmse': 0.464165061712265, 'default': 0.21790628135204315}  (Index 145)\u001b[0m\n"
     ]
    },
    {
     "data": {
      "application/vnd.jupyter.widget-view+json": {
       "model_id": "061a46b05bcd4594960790e0c422fb5e",
       "version_major": 2,
       "version_minor": 0
      },
      "text/plain": [
       "Validation: |          | 0/? [00:00<?, ?it/s]"
      ]
     },
     "metadata": {},
     "output_type": "display_data"
    },
    {
     "name": "stdout",
     "output_type": "stream",
     "text": [
      "[2024-05-14 01:52:15] \u001b[32mIntermediate result: {'mse': 0.2177692949771881, 'rmse': 0.4640076160430908, 'default': 0.2177692949771881}  (Index 146)\u001b[0m\n"
     ]
    },
    {
     "data": {
      "application/vnd.jupyter.widget-view+json": {
       "model_id": "e99183de632e444c9d8120b899609bfc",
       "version_major": 2,
       "version_minor": 0
      },
      "text/plain": [
       "Validation: |          | 0/? [00:00<?, ?it/s]"
      ]
     },
     "metadata": {},
     "output_type": "display_data"
    },
    {
     "name": "stdout",
     "output_type": "stream",
     "text": [
      "[2024-05-14 01:52:16] \u001b[32mIntermediate result: {'mse': 0.2185133993625641, 'rmse': 0.464765727519989, 'default': 0.2185133993625641}  (Index 147)\u001b[0m\n"
     ]
    },
    {
     "data": {
      "application/vnd.jupyter.widget-view+json": {
       "model_id": "5f1815eff8c94f0ab1e80c60cdae9a89",
       "version_major": 2,
       "version_minor": 0
      },
      "text/plain": [
       "Validation: |          | 0/? [00:00<?, ?it/s]"
      ]
     },
     "metadata": {},
     "output_type": "display_data"
    },
    {
     "name": "stdout",
     "output_type": "stream",
     "text": [
      "[2024-05-14 01:52:16] \u001b[32mIntermediate result: {'mse': 0.21641142666339874, 'rmse': 0.4626224935054779, 'default': 0.21641142666339874}  (Index 148)\u001b[0m\n"
     ]
    },
    {
     "data": {
      "application/vnd.jupyter.widget-view+json": {
       "model_id": "7e3a9269b98d4f79802eb291c4ff2a96",
       "version_major": 2,
       "version_minor": 0
      },
      "text/plain": [
       "Validation: |          | 0/? [00:00<?, ?it/s]"
      ]
     },
     "metadata": {},
     "output_type": "display_data"
    },
    {
     "name": "stdout",
     "output_type": "stream",
     "text": [
      "[2024-05-14 01:52:17] \u001b[32mIntermediate result: {'mse': 0.21811595559120178, 'rmse': 0.4643125534057617, 'default': 0.21811595559120178}  (Index 149)\u001b[0m\n"
     ]
    },
    {
     "name": "stderr",
     "output_type": "stream",
     "text": [
      "`Trainer.fit` stopped: `max_epochs=150` reached.\n"
     ]
    },
    {
     "name": "stdout",
     "output_type": "stream",
     "text": [
      "[2024-05-14 01:52:17] \u001b[32mFinal result: {'mse': 0.21811595559120178, 'rmse': 0.4643125534057617, 'default': 0.21811595559120178}\u001b[0m\n"
     ]
    }
   ],
   "source": [
    "evaluator.fit(final_model)"
   ]
  },
  {
   "cell_type": "markdown",
   "metadata": {},
   "source": [
    "# Evaluate final model"
   ]
  },
  {
   "cell_type": "code",
   "execution_count": 11,
   "metadata": {},
   "outputs": [
    {
     "name": "stderr",
     "output_type": "stream",
     "text": [
      "GPU available: True (cuda), used: True\n",
      "TPU available: False, using: 0 TPU cores\n",
      "IPU available: False, using: 0 IPUs\n",
      "HPU available: False, using: 0 HPUs\n"
     ]
    }
   ],
   "source": [
    "test_evaluator = RegressionEvaluator(\n",
    "    learning_rate=3e-4,\n",
    "    weight_decay=1e-5,\n",
    "    optimizer=torch.optim.AdamW,\n",
    "    val_dataloaders=loaders['test'],\n",
    "    max_epochs=100,\n",
    ")"
   ]
  },
  {
   "cell_type": "code",
   "execution_count": 12,
   "metadata": {},
   "outputs": [
    {
     "name": "stdout",
     "output_type": "stream",
     "text": [
      "[2024-05-14 01:52:59] \u001b[32mOnly validation dataloaders are available. Skip to validation.\u001b[0m\n"
     ]
    },
    {
     "name": "stderr",
     "output_type": "stream",
     "text": [
      "LOCAL_RANK: 0 - CUDA_VISIBLE_DEVICES: [0]\n"
     ]
    },
    {
     "data": {
      "application/vnd.jupyter.widget-view+json": {
       "model_id": "ab13e312a2e64219b78439b6107a79db",
       "version_major": 2,
       "version_minor": 0
      },
      "text/plain": [
       "Validation: |          | 0/? [00:00<?, ?it/s]"
      ]
     },
     "metadata": {},
     "output_type": "display_data"
    },
    {
     "name": "stdout",
     "output_type": "stream",
     "text": [
      "[2024-05-14 01:52:59] \u001b[32mIntermediate result: {'mse': 0.23070895671844482, 'rmse': 0.4781631529331207, 'default': 0.23070895671844482}  (Index 150)\u001b[0m\n",
      "[2024-05-14 01:52:59] \u001b[32mFinal result: {'mse': 0.23070895671844482, 'rmse': 0.4781631529331207, 'default': 0.23070895671844482}\u001b[0m\n",
      "────────────────────────────────────────────────────────────────────────────────────────────────────────────────────────\n",
      "     Validate metric           DataLoader 0\n",
      "────────────────────────────────────────────────────────────────────────────────────────────────────────────────────────\n",
      "       val_default          0.23070895671844482\n",
      "        val_loss            0.23070895671844482\n",
      "         val_mse            0.23070895671844482\n",
      "        val_rmse            0.4781631529331207\n",
      "────────────────────────────────────────────────────────────────────────────────────────────────────────────────────────\n"
     ]
    },
    {
     "data": {
      "text/plain": [
       "[{'val_loss': 0.23070895671844482,\n",
       "  'val_mse': 0.23070895671844482,\n",
       "  'val_rmse': 0.4781631529331207,\n",
       "  'val_default': 0.23070895671844482}]"
      ]
     },
     "execution_count": 12,
     "metadata": {},
     "output_type": "execute_result"
    }
   ],
   "source": [
    "test_evaluator.evaluate(final_model)"
   ]
  }
 ],
 "metadata": {
  "kernelspec": {
   "display_name": "test_env",
   "language": "python",
   "name": "python3"
  },
  "language_info": {
   "codemirror_mode": {
    "name": "ipython",
    "version": 3
   },
   "file_extension": ".py",
   "mimetype": "text/x-python",
   "name": "python",
   "nbconvert_exporter": "python",
   "pygments_lexer": "ipython3",
   "version": "3.12.2"
  }
 },
 "nbformat": 4,
 "nbformat_minor": 2
}
